{
 "cells": [
  {
   "cell_type": "markdown",
   "id": "c1f8c2d2",
   "metadata": {},
   "source": [
    "# Problem statement\n",
    "Given file \"terrorismData.csv\"\n",
    "\n",
    "It is an open-source database including information on terrorist attacks around the world from 1970 through 2017. This dataset includes systematic data on domestic as well as international terrorist incidents that have occurred during this time period\n",
    "\n",
    "## Problem Statement :\n",
    "There was formation of new government in India on 26 May 2014. So current government's span is from 26th May 2014 to current. Find out two things from this period-\n",
    "\n",
    "1. Total number of attacks done in this period in India. Find this count as integer.\n",
    "2. Which Terrorist group was most active in this period in India. Most active means, group which has done maximum number of attacks. \n",
    "3.Ignore the Unknown group. \n",
    "## Output Format :\n",
    "TotalAttacks MostActiveTerroristGroup"
   ]
  },
  {
   "cell_type": "markdown",
   "id": "d162a4cc",
   "metadata": {},
   "source": []
  }
 ],
 "metadata": {
  "language_info": {
   "name": "python"
  }
 },
 "nbformat": 4,
 "nbformat_minor": 5
}
