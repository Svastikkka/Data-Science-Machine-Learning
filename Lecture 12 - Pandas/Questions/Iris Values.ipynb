{
 "cells": [
  {
   "cell_type": "markdown",
   "id": "b96bd924",
   "metadata": {},
   "source": [
    "# Problem statement\n",
    "Find and print the minimum, maximum and average value of the feature for each kind of flower ?\n",
    "\n",
    "*Note*: Get the dataset from here\n",
    "\n",
    "## Problem statement\n",
    "Print the value with two decimal places.\n",
    "\n",
    "*Note*: Order for flower is Iris-setosa, Iris-versicolor and Iris-virginica.\n",
    "\n",
    "## Output Format\n",
    "\n",
    "```\n",
    "minSL minSW minPL minPW Iris-setosa\n",
    "maxSL maxSW maxPL maxPW Iris-setosa\n",
    "avgSL avgSW avgPL avgPW Iris-setosa\n",
    ". . .\n",
    ". . .\n",
    ". . .\n",
    "```"
   ]
  },
  {
   "cell_type": "code",
   "execution_count": 46,
   "id": "cdf8689d",
   "metadata": {},
   "outputs": [],
   "source": [
    "import pandas as pd\n",
    "data = pd.read_csv(\"/Users/manshusharma/Documents/Personal/Data-Science-Machine-Learning/Datasets/iris.csv\")"
   ]
  },
  {
   "cell_type": "code",
   "execution_count": 47,
   "id": "720a43eb",
   "metadata": {},
   "outputs": [
    {
     "data": {
      "text/html": [
       "<div>\n",
       "<style scoped>\n",
       "    .dataframe tbody tr th:only-of-type {\n",
       "        vertical-align: middle;\n",
       "    }\n",
       "\n",
       "    .dataframe tbody tr th {\n",
       "        vertical-align: top;\n",
       "    }\n",
       "\n",
       "    .dataframe thead th {\n",
       "        text-align: right;\n",
       "    }\n",
       "</style>\n",
       "<table border=\"1\" class=\"dataframe\">\n",
       "  <thead>\n",
       "    <tr style=\"text-align: right;\">\n",
       "      <th></th>\n",
       "      <th>sepal.length</th>\n",
       "      <th>sepal.width</th>\n",
       "      <th>petal.length</th>\n",
       "      <th>petal.width</th>\n",
       "      <th>variety</th>\n",
       "    </tr>\n",
       "  </thead>\n",
       "  <tbody>\n",
       "    <tr>\n",
       "      <th>0</th>\n",
       "      <td>5.1</td>\n",
       "      <td>3.5</td>\n",
       "      <td>1.4</td>\n",
       "      <td>0.2</td>\n",
       "      <td>Setosa</td>\n",
       "    </tr>\n",
       "    <tr>\n",
       "      <th>1</th>\n",
       "      <td>4.9</td>\n",
       "      <td>3.0</td>\n",
       "      <td>1.4</td>\n",
       "      <td>0.2</td>\n",
       "      <td>Setosa</td>\n",
       "    </tr>\n",
       "    <tr>\n",
       "      <th>2</th>\n",
       "      <td>4.7</td>\n",
       "      <td>3.2</td>\n",
       "      <td>1.3</td>\n",
       "      <td>0.2</td>\n",
       "      <td>Setosa</td>\n",
       "    </tr>\n",
       "    <tr>\n",
       "      <th>3</th>\n",
       "      <td>4.6</td>\n",
       "      <td>3.1</td>\n",
       "      <td>1.5</td>\n",
       "      <td>0.2</td>\n",
       "      <td>Setosa</td>\n",
       "    </tr>\n",
       "    <tr>\n",
       "      <th>4</th>\n",
       "      <td>5.0</td>\n",
       "      <td>3.6</td>\n",
       "      <td>1.4</td>\n",
       "      <td>0.2</td>\n",
       "      <td>Setosa</td>\n",
       "    </tr>\n",
       "  </tbody>\n",
       "</table>\n",
       "</div>"
      ],
      "text/plain": [
       "   sepal.length  sepal.width  petal.length  petal.width variety\n",
       "0           5.1          3.5           1.4          0.2  Setosa\n",
       "1           4.9          3.0           1.4          0.2  Setosa\n",
       "2           4.7          3.2           1.3          0.2  Setosa\n",
       "3           4.6          3.1           1.5          0.2  Setosa\n",
       "4           5.0          3.6           1.4          0.2  Setosa"
      ]
     },
     "execution_count": 47,
     "metadata": {},
     "output_type": "execute_result"
    }
   ],
   "source": [
    "data.head()"
   ]
  },
  {
   "cell_type": "code",
   "execution_count": 49,
   "id": "993141e9",
   "metadata": {},
   "outputs": [
    {
     "name": "stdout",
     "output_type": "stream",
     "text": [
      "           sepal.length             sepal.width             petal.length       \\\n",
      "                    min  max   mean         min  max   mean          min  max   \n",
      "variety                                                                         \n",
      "Setosa              4.3  5.8  5.006         2.3  4.4  3.428          1.0  1.9   \n",
      "Versicolor          4.9  7.0  5.936         2.0  3.4  2.770          3.0  5.1   \n",
      "Virginica           4.9  7.9  6.588         2.2  3.8  2.974          4.5  6.9   \n",
      "\n",
      "                  petal.width              \n",
      "             mean         min  max   mean  \n",
      "variety                                    \n",
      "Setosa      1.462         0.1  0.6  0.246  \n",
      "Versicolor  4.260         1.0  1.8  1.326  \n",
      "Virginica   5.552         1.4  2.5  2.026  \n"
     ]
    }
   ],
   "source": [
    "result = data.groupby('variety').agg({\n",
    "    'sepal.length': ['min', 'max', 'mean'],\n",
    "    'sepal.width': ['min', 'max', 'mean'],\n",
    "    'petal.length': ['min', 'max', 'mean'],\n",
    "    'petal.width': ['min', 'max', 'mean']\n",
    "})\n",
    "\n",
    "print(result.round(2))"
   ]
  },
  {
   "cell_type": "code",
   "execution_count": null,
   "id": "9f3929e0",
   "metadata": {},
   "outputs": [],
   "source": []
  }
 ],
 "metadata": {
  "kernelspec": {
   "display_name": "svastikkka",
   "language": "python",
   "name": "python3"
  },
  "language_info": {
   "name": "python",
   "version": "3.9.21"
  }
 },
 "nbformat": 4,
 "nbformat_minor": 5
}
