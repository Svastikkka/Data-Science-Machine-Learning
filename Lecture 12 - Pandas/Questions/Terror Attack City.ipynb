{
 "cells": [
  {
   "cell_type": "markdown",
   "id": "373ee16e",
   "metadata": {},
   "source": [
    "# Problem statement\n",
    "Given file \"terrorismData.csv\"\n",
    "\n",
    "It is an open-source database including information on terrorist attacks around the world from 1970 through 2017. This dataset includes systematic data on domestic as well as international terrorist incidents that have occurred during this time period\n",
    "\n",
    "## Problem Statement :\n",
    "The Most Dangerous city in Jammu and Kashmir and the terrorist group which is most active in that city?\n",
    "\n",
    "Print count of number of attacks in that city as integer value.\n",
    "\n",
    "*Note*:Ignoring the Unknown Terrorist Group.Here Dangerous related with the number of terrorist attacks.\n",
    "\n",
    "## Output Format :\n",
    "City NumberOfAttack Group"
   ]
  },
  {
   "cell_type": "code",
   "execution_count": 40,
   "id": "012a3828",
   "metadata": {},
   "outputs": [],
   "source": [
    "import pandas as pd\n",
    "data = pd.read_csv(\"/Users/manshusharma/Documents/Personal/Data-Science-Machine-Learning/Datasets/terrorismData.csv\")"
   ]
  },
  {
   "cell_type": "code",
   "execution_count": 41,
   "id": "ff4454d1",
   "metadata": {},
   "outputs": [
    {
     "data": {
      "text/plain": [
       "Index(['Year', 'Month', 'Day', 'Country', 'State', 'Region', 'City',\n",
       "       'Latitude', 'Longitude', 'AttackType', 'Killed', 'Wounded', 'Target',\n",
       "       'Summary', 'Group', 'Target_type', 'Weapon_type'],\n",
       "      dtype='object')"
      ]
     },
     "execution_count": 41,
     "metadata": {},
     "output_type": "execute_result"
    }
   ],
   "source": [
    "data.columns"
   ]
  },
  {
   "cell_type": "code",
   "execution_count": 42,
   "id": "366f424a",
   "metadata": {},
   "outputs": [],
   "source": [
    "newData = data.loc[(data[\"Country\"]==\"India\") & (data[\"State\"]==\"Jammu and Kashmir\")][\"City\"].value_counts()"
   ]
  },
  {
   "cell_type": "code",
   "execution_count": 43,
   "id": "6b762531",
   "metadata": {},
   "outputs": [],
   "source": [
    "City = newData.index[0]\n"
   ]
  },
  {
   "cell_type": "code",
   "execution_count": 44,
   "id": "a814fc97",
   "metadata": {},
   "outputs": [],
   "source": [
    "Count = newData.values[0]"
   ]
  },
  {
   "cell_type": "code",
   "execution_count": 45,
   "id": "8a7ddd77",
   "metadata": {},
   "outputs": [],
   "source": [
    "Group = data.loc[data[\"City\"]==newData.index[0]][\"Group\"].value_counts().index[1]"
   ]
  },
  {
   "cell_type": "code",
   "execution_count": 46,
   "id": "4e903d9a",
   "metadata": {},
   "outputs": [
    {
     "name": "stdout",
     "output_type": "stream",
     "text": [
      "Srinagar 657 Muslim Separatists\n"
     ]
    }
   ],
   "source": [
    "print(City,Count,Group)"
   ]
  },
  {
   "cell_type": "code",
   "execution_count": null,
   "id": "067f0c74",
   "metadata": {},
   "outputs": [],
   "source": []
  }
 ],
 "metadata": {
  "kernelspec": {
   "display_name": "svastikkka",
   "language": "python",
   "name": "python3"
  },
  "language_info": {
   "codemirror_mode": {
    "name": "ipython",
    "version": 3
   },
   "file_extension": ".py",
   "mimetype": "text/x-python",
   "name": "python",
   "nbconvert_exporter": "python",
   "pygments_lexer": "ipython3",
   "version": "3.9.21"
  }
 },
 "nbformat": 4,
 "nbformat_minor": 5
}
