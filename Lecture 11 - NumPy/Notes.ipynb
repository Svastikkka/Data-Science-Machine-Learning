{
 "cells": [
  {
   "cell_type": "markdown",
   "id": "0f310d01",
   "metadata": {},
   "source": [
    "Functions are independent blocks of code that can be called from anywhere, while methods are tied to objects or classes and need an object or class instance to be invoked."
   ]
  },
  {
   "cell_type": "markdown",
   "id": "da0216bf",
   "metadata": {},
   "source": [
    "## Numpy Functions\n",
    "- np.array() DONE\n",
    "- np.ones() DONE\n",
    "- np.zeros() DONE\n",
    "- np.full() DONE\n",
    "- np.empty() DONE\n",
    "- np.arange() DONE\n",
    "- np.linespace() DONE\n",
    "- np.identity() DONE\n",
    "- np.eye() DONE\n",
    "- np.random.rand() DONE\n",
    "- np.random.randint() DONE\n",
    "- np.where() DONE\n",
    "- np.nonzero()\n",
    "- np.argmax()\n",
    "- np.sort()\n",
    "- np.argsort()\n",
    "- np.transpose()\n",
    "- np.reshape()\n",
    "- np.resize()\n",
    "- np.loattxt()"
   ]
  },
  {
   "cell_type": "markdown",
   "id": "abe4d0ce",
   "metadata": {},
   "source": [
    "### np.array()\n",
    "- Used to create/convert list to np array\n",
    "- If list is included with chars,float number and integers then numpy will convert all elements to chars\n",
    "- char '5.5' can be directly converted to float  but cannot directly converted to integer. <b>Check example 5</b>\n",
    "- We can convert each elemnets to another type(int,float,str) using `dtype=TYPE` parameter. <b>Check example 3 & 4</b>\n",
    "- We can also use operator to perform certain operation while creating numpy arr. <b>Check example 6</b>"
   ]
  },
  {
   "cell_type": "code",
   "execution_count": 1,
   "id": "044f88bd",
   "metadata": {},
   "outputs": [
    {
     "data": {
      "text/plain": [
       "array([1, 2, 3, 4, 5, 6])"
      ]
     },
     "execution_count": 1,
     "metadata": {},
     "output_type": "execute_result"
    }
   ],
   "source": [
    "# example 1\n",
    "import numpy as np\n",
    "a=[1,2,3,4,5,6]\n",
    "nparr=np.array(a)\n",
    "nparr"
   ]
  },
  {
   "cell_type": "code",
   "execution_count": 2,
   "id": "b650d438",
   "metadata": {},
   "outputs": [
    {
     "data": {
      "text/plain": [
       "array(['1', '2', '3', '4', '5', '6', 'a', 'b'], dtype='<U21')"
      ]
     },
     "execution_count": 2,
     "metadata": {},
     "output_type": "execute_result"
    }
   ],
   "source": [
    "# example 2\n",
    "import numpy as np\n",
    "a=[1,2,3,4,5,6,'a','b']\n",
    "nparr=np.array(a)\n",
    "nparr"
   ]
  },
  {
   "cell_type": "code",
   "execution_count": 3,
   "id": "018b0d31",
   "metadata": {},
   "outputs": [
    {
     "data": {
      "text/plain": [
       "array([1, 2, 3, 4, 5, 6, 7, 8])"
      ]
     },
     "execution_count": 3,
     "metadata": {},
     "output_type": "execute_result"
    }
   ],
   "source": [
    "# example 3\n",
    "import numpy as np\n",
    "a=[1,2,3,4,5,6,7.0,8.1]\n",
    "nparr=np.array(a, dtype=int)\n",
    "nparr"
   ]
  },
  {
   "cell_type": "code",
   "execution_count": 4,
   "id": "f2a8a887",
   "metadata": {},
   "outputs": [
    {
     "data": {
      "text/plain": [
       "array([1, 2, 3, 4, 5, 6])"
      ]
     },
     "execution_count": 4,
     "metadata": {},
     "output_type": "execute_result"
    }
   ],
   "source": [
    "# example 4\n",
    "import numpy as np\n",
    "arr=[1,2,3,4,'5','6']\n",
    "nparr=np.array(arr,dtype=int)\n",
    "nparr"
   ]
  },
  {
   "cell_type": "code",
   "execution_count": 5,
   "id": "f9ed9c9b",
   "metadata": {},
   "outputs": [
    {
     "data": {
      "text/plain": [
       "array([1. , 2. , 3. , 4. , 5.5, 6. ])"
      ]
     },
     "execution_count": 5,
     "metadata": {},
     "output_type": "execute_result"
    }
   ],
   "source": [
    "# example 5\n",
    "import numpy as np\n",
    "arr=[1,2,3,4,'5.5','6']\n",
    "nparr=np.array(arr,dtype=float)\n",
    "nparr"
   ]
  },
  {
   "cell_type": "code",
   "execution_count": 6,
   "id": "0c5fc1fd",
   "metadata": {},
   "outputs": [
    {
     "data": {
      "text/plain": [
       "array([1, 2, 3, 4, 5, 6, 1, 2, 3, 4, 5, 6, 1, 2, 3, 4, 5, 6])"
      ]
     },
     "execution_count": 6,
     "metadata": {},
     "output_type": "execute_result"
    }
   ],
   "source": [
    "# example 6\n",
    "import numpy as np\n",
    "a=[1,2,3,4,5,6]\n",
    "arr=np.array(a*3)\n",
    "arr"
   ]
  },
  {
   "cell_type": "markdown",
   "id": "79c04655",
   "metadata": {},
   "source": [
    "### np.ones()\n",
    "- Returns an arr of ones\n",
    "- Every element is floating point type.\n",
    "- We. can use `dtype=TYPE` to change the default type (float to int). <b>Check example 2</b>\n",
    "- We can also create 2 dimentional arrays. <b>Check example 3</b>"
   ]
  },
  {
   "cell_type": "code",
   "execution_count": 7,
   "id": "7a0d17b1",
   "metadata": {},
   "outputs": [
    {
     "data": {
      "text/plain": [
       "array([1., 1., 1.])"
      ]
     },
     "execution_count": 7,
     "metadata": {},
     "output_type": "execute_result"
    }
   ],
   "source": [
    "# example 1\n",
    "import numpy as np\n",
    "arr=np.ones(3)\n",
    "arr"
   ]
  },
  {
   "cell_type": "code",
   "execution_count": 8,
   "id": "84a5bdb0",
   "metadata": {},
   "outputs": [
    {
     "data": {
      "text/plain": [
       "array([1, 1, 1])"
      ]
     },
     "execution_count": 8,
     "metadata": {},
     "output_type": "execute_result"
    }
   ],
   "source": [
    "# example 2\n",
    "import numpy as np\n",
    "arr=np.ones(3, dtype=int)\n",
    "arr"
   ]
  },
  {
   "cell_type": "code",
   "execution_count": 9,
   "id": "8dba7b3b",
   "metadata": {},
   "outputs": [
    {
     "data": {
      "text/plain": [
       "array([[1., 1., 1.],\n",
       "       [1., 1., 1.],\n",
       "       [1., 1., 1.]])"
      ]
     },
     "execution_count": 9,
     "metadata": {},
     "output_type": "execute_result"
    }
   ],
   "source": [
    "# example 3\n",
    "import numpy as np\n",
    "arr=np.ones((3,3))\n",
    "arr"
   ]
  },
  {
   "cell_type": "markdown",
   "id": "d8e642bb",
   "metadata": {},
   "source": [
    "### np.zeros()\n",
    "- Returns an arr of zeros\n",
    "- Every element is floating point type.\n",
    "- We. can use `dtype=TYPE` to change the default type (float to int). <b>Check example 2</b>\n",
    "- We can also create 2 dimentional arrays. <b>Check example 3</b>"
   ]
  },
  {
   "cell_type": "code",
   "execution_count": 10,
   "id": "e712c3f1",
   "metadata": {},
   "outputs": [
    {
     "data": {
      "text/plain": [
       "array([0., 0., 0., 0.])"
      ]
     },
     "execution_count": 10,
     "metadata": {},
     "output_type": "execute_result"
    }
   ],
   "source": [
    "# example 1\n",
    "import numpy as np\n",
    "arr=np.zeros(4)\n",
    "arr"
   ]
  },
  {
   "cell_type": "code",
   "execution_count": 11,
   "id": "42a7dca7",
   "metadata": {},
   "outputs": [
    {
     "data": {
      "text/plain": [
       "array([0, 0, 0, 0])"
      ]
     },
     "execution_count": 11,
     "metadata": {},
     "output_type": "execute_result"
    }
   ],
   "source": [
    "# example 2\n",
    "import numpy as np\n",
    "arr=np.zeros(4,dtype=int)\n",
    "arr"
   ]
  },
  {
   "cell_type": "code",
   "execution_count": 12,
   "id": "f033113d",
   "metadata": {},
   "outputs": [
    {
     "data": {
      "text/plain": [
       "array([[0., 0., 0.],\n",
       "       [0., 0., 0.],\n",
       "       [0., 0., 0.]])"
      ]
     },
     "execution_count": 12,
     "metadata": {},
     "output_type": "execute_result"
    }
   ],
   "source": [
    "# example 3\n",
    "import numpy as np\n",
    "arr=np.zeros((3,3))\n",
    "arr"
   ]
  },
  {
   "cell_type": "markdown",
   "id": "7c8c74e0",
   "metadata": {},
   "source": [
    "### np.full()\n",
    "- Create an array of required size with same element\n",
    "- We can create 2 dimention array with same value. <b>Check example 2</b>\n",
    "- The return type is integer."
   ]
  },
  {
   "cell_type": "code",
   "execution_count": 13,
   "id": "6eeb4235",
   "metadata": {},
   "outputs": [
    {
     "data": {
      "text/plain": [
       "array([4, 4, 4])"
      ]
     },
     "execution_count": 13,
     "metadata": {},
     "output_type": "execute_result"
    }
   ],
   "source": [
    "# example 1\n",
    "import numpy as np\n",
    "arr = np.full(3,4)\n",
    "arr"
   ]
  },
  {
   "cell_type": "code",
   "execution_count": 14,
   "id": "4b011eb7",
   "metadata": {},
   "outputs": [
    {
     "data": {
      "text/plain": [
       "array([[4, 4, 4],\n",
       "       [4, 4, 4],\n",
       "       [4, 4, 4]])"
      ]
     },
     "execution_count": 14,
     "metadata": {},
     "output_type": "execute_result"
    }
   ],
   "source": [
    "# example 2\n",
    "import numpy as np\n",
    "arr = np.full((3,3),4)\n",
    "arr"
   ]
  },
  {
   "cell_type": "code",
   "execution_count": 15,
   "id": "1d69ae60",
   "metadata": {},
   "outputs": [
    {
     "data": {
      "text/plain": [
       "array([[4., 4., 4.],\n",
       "       [4., 4., 4.],\n",
       "       [4., 4., 4.]])"
      ]
     },
     "execution_count": 15,
     "metadata": {},
     "output_type": "execute_result"
    }
   ],
   "source": [
    "# example 2\n",
    "import numpy as np\n",
    "arr = np.full((3,3),4, dtype=float)\n",
    "arr"
   ]
  },
  {
   "cell_type": "markdown",
   "id": "64ae178f",
   "metadata": {},
   "source": [
    "### np.empty()\n",
    "- Return a new array of given shape (1D, 2D) and type, with random values.\n",
    "- Syntax: `numpy.empty(shape, dtype = float, order = ‘C’)`\n",
    "- Referece: https://www.geeksforgeeks.org/numpy-empty-python/\n"
   ]
  },
  {
   "cell_type": "code",
   "execution_count": 16,
   "id": "5aa98ce2",
   "metadata": {},
   "outputs": [
    {
     "data": {
      "text/plain": [
       "array([1., 1., 1.])"
      ]
     },
     "execution_count": 16,
     "metadata": {},
     "output_type": "execute_result"
    }
   ],
   "source": [
    "# example 1\n",
    "import numpy as np\n",
    "np.empty(3)"
   ]
  },
  {
   "cell_type": "code",
   "execution_count": 17,
   "id": "b8f54bb9",
   "metadata": {},
   "outputs": [
    {
     "data": {
      "text/plain": [
       "array([[ 0, 79,  0,  0],\n",
       "       [ 0,  0,  0,  0],\n",
       "       [ 0,  0,  0,  0],\n",
       "       [ 0,  0,  0,  0]])"
      ]
     },
     "execution_count": 17,
     "metadata": {},
     "output_type": "execute_result"
    }
   ],
   "source": [
    "# example 2\n",
    "import numpy as np\n",
    "arr = np.empty((4,4),dtype=int)\n",
    "arr"
   ]
  },
  {
   "cell_type": "markdown",
   "id": "19db3703",
   "metadata": {},
   "source": [
    "### np.arange()\n",
    "- Returns an array with evenly spaced elements as per the interval. The interval mentioned is half-opened i.e. `[Start, Stop]`\n",
    "- Parameters:\n",
    "    - start : [optional] start of interval range. By default start = 0\n",
    "    - stop  : end of interval range\n",
    "    - step  : [optional] step size of interval. By default step size = 1,  \n",
    "    - dtype : type of output array\n",
    "\n",
    "- Reference: https://www.geeksforgeeks.org/numpy-arrange-in-python/"
   ]
  },
  {
   "cell_type": "code",
   "execution_count": 18,
   "id": "9e1f5d75",
   "metadata": {},
   "outputs": [
    {
     "data": {
      "text/plain": [
       "array([  2,   4,   6,   8,  10,  12,  14,  16,  18,  20,  22,  24,  26,\n",
       "        28,  30,  32,  34,  36,  38,  40,  42,  44,  46,  48,  50,  52,\n",
       "        54,  56,  58,  60,  62,  64,  66,  68,  70,  72,  74,  76,  78,\n",
       "        80,  82,  84,  86,  88,  90,  92,  94,  96,  98, 100, 102, 104,\n",
       "       106, 108, 110, 112, 114, 116, 118, 120, 122, 124, 126, 128, 130,\n",
       "       132, 134, 136, 138, 140, 142, 144, 146, 148, 150, 152, 154, 156,\n",
       "       158, 160, 162, 164, 166, 168, 170, 172, 174, 176, 178, 180, 182,\n",
       "       184, 186, 188, 190, 192, 194, 196, 198, 200, 202, 204, 206, 208,\n",
       "       210, 212, 214, 216, 218, 220, 222, 224, 226, 228, 230, 232, 234,\n",
       "       236, 238, 240, 242, 244, 246, 248, 250, 252, 254, 256, 258, 260,\n",
       "       262, 264, 266, 268, 270, 272, 274, 276, 278, 280, 282, 284, 286,\n",
       "       288, 290, 292, 294, 296, 298, 300, 302, 304, 306, 308, 310, 312,\n",
       "       314, 316, 318, 320, 322, 324, 326, 328, 330, 332, 334, 336, 338,\n",
       "       340, 342, 344, 346, 348, 350, 352, 354, 356, 358, 360, 362, 364,\n",
       "       366, 368, 370, 372, 374, 376, 378, 380, 382, 384, 386, 388, 390,\n",
       "       392, 394, 396, 398, 400, 402, 404, 406, 408, 410, 412, 414, 416,\n",
       "       418, 420, 422, 424, 426, 428, 430, 432, 434, 436, 438, 440, 442,\n",
       "       444, 446, 448, 450, 452, 454, 456, 458, 460, 462, 464, 466, 468,\n",
       "       470, 472, 474, 476, 478, 480, 482, 484, 486, 488, 490, 492, 494,\n",
       "       496, 498])"
      ]
     },
     "execution_count": 18,
     "metadata": {},
     "output_type": "execute_result"
    }
   ],
   "source": [
    "# example 1\n",
    "import numpy as np\n",
    "arr = np.arange(2,500,2)\n",
    "arr"
   ]
  },
  {
   "cell_type": "code",
   "execution_count": 19,
   "id": "3a13a04f",
   "metadata": {},
   "outputs": [
    {
     "data": {
      "text/plain": [
       "array([  2.,   4.,   6.,   8.,  10.,  12.,  14.,  16.,  18.,  20.,  22.,\n",
       "        24.,  26.,  28.,  30.,  32.,  34.,  36.,  38.,  40.,  42.,  44.,\n",
       "        46.,  48.,  50.,  52.,  54.,  56.,  58.,  60.,  62.,  64.,  66.,\n",
       "        68.,  70.,  72.,  74.,  76.,  78.,  80.,  82.,  84.,  86.,  88.,\n",
       "        90.,  92.,  94.,  96.,  98., 100., 102., 104., 106., 108., 110.,\n",
       "       112., 114., 116., 118., 120., 122., 124., 126., 128., 130., 132.,\n",
       "       134., 136., 138., 140., 142., 144., 146., 148., 150., 152., 154.,\n",
       "       156., 158., 160., 162., 164., 166., 168., 170., 172., 174., 176.,\n",
       "       178., 180., 182., 184., 186., 188., 190., 192., 194., 196., 198.,\n",
       "       200., 202., 204., 206., 208., 210., 212., 214., 216., 218., 220.,\n",
       "       222., 224., 226., 228., 230., 232., 234., 236., 238., 240., 242.,\n",
       "       244., 246., 248., 250., 252., 254., 256., 258., 260., 262., 264.,\n",
       "       266., 268., 270., 272., 274., 276., 278., 280., 282., 284., 286.,\n",
       "       288., 290., 292., 294., 296., 298., 300., 302., 304., 306., 308.,\n",
       "       310., 312., 314., 316., 318., 320., 322., 324., 326., 328., 330.,\n",
       "       332., 334., 336., 338., 340., 342., 344., 346., 348., 350., 352.,\n",
       "       354., 356., 358., 360., 362., 364., 366., 368., 370., 372., 374.,\n",
       "       376., 378., 380., 382., 384., 386., 388., 390., 392., 394., 396.,\n",
       "       398., 400., 402., 404., 406., 408., 410., 412., 414., 416., 418.,\n",
       "       420., 422., 424., 426., 428., 430., 432., 434., 436., 438., 440.,\n",
       "       442., 444., 446., 448., 450., 452., 454., 456., 458., 460., 462.,\n",
       "       464., 466., 468., 470., 472., 474., 476., 478., 480., 482., 484.,\n",
       "       486., 488., 490., 492., 494., 496., 498.])"
      ]
     },
     "execution_count": 19,
     "metadata": {},
     "output_type": "execute_result"
    }
   ],
   "source": [
    "# example 2\n",
    "import numpy as np\n",
    "arr = np.arange(2,500,2, dtype=float)\n",
    "arr"
   ]
  },
  {
   "cell_type": "markdown",
   "id": "b27b625a",
   "metadata": {},
   "source": [
    "### np.linspace()\n",
    "\n",
    "- The `numpy.linspace()` function returns number spaces evenly w.r.t interval. \n",
    "- Similar to numpy.arange() function but instead of step it uses sample number.\n",
    "```\n",
    "numpy.linspace(start,\n",
    "               stop,\n",
    "               num = 50,\n",
    "               endpoint = True,\n",
    "               retstep = False,\n",
    "               dtype = None)\n",
    "```\n",
    "- Parameter\n",
    "\n",
    "```\n",
    "-> start    : [optional] start of interval range. By default start = 0\n",
    "-> stop     : end of interval range\n",
    "-> restep   : If True, return (samples, step). By default restep = False\n",
    "-> num      : [int, optional] No. of samples to generate\n",
    "-> endpoint :\n",
    "-> dtype    : type of output array\n",
    "```\n",
    "\n",
    "- Reference: https://www.geeksforgeeks.org/numpy-linspace-python/"
   ]
  },
  {
   "cell_type": "code",
   "execution_count": 20,
   "id": "62f851cb",
   "metadata": {},
   "outputs": [
    {
     "data": {
      "text/plain": [
       "array([ 1.        ,  1.18367347,  1.36734694,  1.55102041,  1.73469388,\n",
       "        1.91836735,  2.10204082,  2.28571429,  2.46938776,  2.65306122,\n",
       "        2.83673469,  3.02040816,  3.20408163,  3.3877551 ,  3.57142857,\n",
       "        3.75510204,  3.93877551,  4.12244898,  4.30612245,  4.48979592,\n",
       "        4.67346939,  4.85714286,  5.04081633,  5.2244898 ,  5.40816327,\n",
       "        5.59183673,  5.7755102 ,  5.95918367,  6.14285714,  6.32653061,\n",
       "        6.51020408,  6.69387755,  6.87755102,  7.06122449,  7.24489796,\n",
       "        7.42857143,  7.6122449 ,  7.79591837,  7.97959184,  8.16326531,\n",
       "        8.34693878,  8.53061224,  8.71428571,  8.89795918,  9.08163265,\n",
       "        9.26530612,  9.44897959,  9.63265306,  9.81632653, 10.        ])"
      ]
     },
     "execution_count": 20,
     "metadata": {},
     "output_type": "execute_result"
    }
   ],
   "source": [
    "# example 1\n",
    "import numpy as np\n",
    "arr = np.linspace(1,10, 50)\n",
    "arr"
   ]
  },
  {
   "cell_type": "code",
   "execution_count": 21,
   "id": "6a095818",
   "metadata": {},
   "outputs": [
    {
     "data": {
      "text/plain": [
       "array([1.  , 1.18, 1.36, 1.54, 1.72, 1.9 , 2.08, 2.26, 2.44, 2.62, 2.8 ,\n",
       "       2.98, 3.16, 3.34, 3.52, 3.7 , 3.88, 4.06, 4.24, 4.42, 4.6 , 4.78,\n",
       "       4.96, 5.14, 5.32, 5.5 , 5.68, 5.86, 6.04, 6.22, 6.4 , 6.58, 6.76,\n",
       "       6.94, 7.12, 7.3 , 7.48, 7.66, 7.84, 8.02, 8.2 , 8.38, 8.56, 8.74,\n",
       "       8.92, 9.1 , 9.28, 9.46, 9.64, 9.82])"
      ]
     },
     "execution_count": 21,
     "metadata": {},
     "output_type": "execute_result"
    }
   ],
   "source": [
    "# example 2\n",
    "import numpy as np\n",
    "arr = np.linspace(1,10, 50,dtype=float,endpoint=False)\n",
    "arr"
   ]
  },
  {
   "cell_type": "markdown",
   "id": "db784147",
   "metadata": {},
   "source": [
    "### np.identity()\n",
    "- Use to create identity matrix of zero and one.\n",
    "- Dimentions (x,y) should be same"
   ]
  },
  {
   "cell_type": "code",
   "execution_count": 26,
   "id": "5ab14f77",
   "metadata": {},
   "outputs": [
    {
     "data": {
      "text/plain": [
       "array([[1., 0., 0.],\n",
       "       [0., 1., 0.],\n",
       "       [0., 0., 1.]])"
      ]
     },
     "execution_count": 26,
     "metadata": {},
     "output_type": "execute_result"
    }
   ],
   "source": [
    "# example 1\n",
    "import numpy as np\n",
    "arr = np.identity(3)\n",
    "arr"
   ]
  },
  {
   "cell_type": "markdown",
   "id": "bb3e1999",
   "metadata": {},
   "source": [
    "### np.eye()\n",
    "- Dimentions (x,y) could be diffrent\n",
    "- The eye tool returns a 2-D array with  1’s as the diagonal and  0’s elsewhere. The diagonal can be main, upper, or lower depending on the optional parameter k. A positive k is for the upper diagonal, a negative k is for the lower, and a  0 k (default) is for the main diagonal.\n",
    "- Syntax: `numpy.eye(R, C = None, k = 0, dtype = type <‘float’>)`\n",
    "- Prameters:\n",
    "    - R : Number of rows\n",
    "    - C : [optional] Number of columns; By default C = R\n",
    "    - k : [int, optional, 0 by default] Diagonal we require; k>0 means diagonal above main diagonal or vice versa.\n",
    "    - dtype : [optional, float(by Default)] Data type of returned array.\n",
    "    \n",
    "- Reference: https://www.geeksforgeeks.org/numpy-eye-python/?ref=lbp"
   ]
  },
  {
   "cell_type": "code",
   "execution_count": 31,
   "id": "4aa0559a",
   "metadata": {},
   "outputs": [
    {
     "data": {
      "text/plain": [
       "array([[1., 0., 0., 0., 0., 0., 0., 0., 0., 0.],\n",
       "       [0., 1., 0., 0., 0., 0., 0., 0., 0., 0.],\n",
       "       [0., 0., 1., 0., 0., 0., 0., 0., 0., 0.],\n",
       "       [0., 0., 0., 1., 0., 0., 0., 0., 0., 0.]])"
      ]
     },
     "execution_count": 31,
     "metadata": {},
     "output_type": "execute_result"
    }
   ],
   "source": [
    "import numpy as np\n",
    "arr =np.eye(4,10)\n",
    "arr"
   ]
  },
  {
   "cell_type": "markdown",
   "id": "f9507426",
   "metadata": {},
   "source": [
    "### np.random.rand()\n",
    "- Function creates an array of specified shape and fills it with random values.\n",
    "- Syntax: `numpy.random.rand(d0, d1, ..., dn)`\n",
    "- Parameters: \n",
    "```\n",
    "d0, d1, ..., dn : [int, optional]Dimension of the returned array we require, \n",
    "     If no argument is given a single Python float is returned.\n",
    "```\n",
    "Reference: https://www.geeksforgeeks.org/numpy-random-rand-python/"
   ]
  },
  {
   "cell_type": "code",
   "execution_count": 35,
   "id": "d87f7f0a",
   "metadata": {},
   "outputs": [
    {
     "data": {
      "text/plain": [
       "array([[0.43969255, 0.67192656],\n",
       "       [0.45561937, 0.24477299]])"
      ]
     },
     "execution_count": 35,
     "metadata": {},
     "output_type": "execute_result"
    }
   ],
   "source": [
    "import numpy as np\n",
    "arr = np.random.rand(2,2)\n",
    "arr"
   ]
  },
  {
   "cell_type": "markdown",
   "id": "11edb508",
   "metadata": {},
   "source": [
    "### np.random.randint()\n",
    "- One of the function for doing random sampling in numpy. It returns an array of specified shape and fills it with random integers from low (inclusive) to high (exclusive), i.e. in the interval `[low, high)`.\n",
    "- Syntax : `numpy.random.randint(low, high=None, size=None, dtype=’l’)`\n",
    "- Parameters :\n",
    "    - low : [int] Lowest (signed) integer to be drawn from the distribution.But, it works as a highest integer in the sample if high=None.\n",
    "    - high : [int, optional] Largest (signed) integer to be drawn from the distribution.\n",
    "    - size : [int or tuple of ints, optional] Output shape. If the given shape is, e.g., (m, n, k), then m * n * k samples are drawn. Default is None, in which case a single value is returned.\n",
    "    - dtype : [optional] Desired output\n",
    "\n",
    "- Return: Array of random integers in the interval `[low, high]` or a single such random int if size not provided.\n",
    "\n",
    "- Reference: https://www.geeksforgeeks.org/random-sampling-in-numpy-randint-function/"
   ]
  },
  {
   "cell_type": "code",
   "execution_count": 43,
   "id": "47ecd049",
   "metadata": {},
   "outputs": [
    {
     "data": {
      "text/plain": [
       "array([3, 4, 1, 2, 6, 4, 0, 9, 7, 5])"
      ]
     },
     "execution_count": 43,
     "metadata": {},
     "output_type": "execute_result"
    }
   ],
   "source": [
    "import numpy as np\n",
    "arr=np.random.randint(0,10,10)\n",
    "arr"
   ]
  },
  {
   "cell_type": "markdown",
   "id": "fb4cdc7b",
   "metadata": {},
   "source": [
    "### np.where()"
   ]
  },
  {
   "cell_type": "code",
   "execution_count": 129,
   "id": "ca2ae4cf",
   "metadata": {},
   "outputs": [
    {
     "name": "stdout",
     "output_type": "stream",
     "text": [
      "elements [874 176 189 475 820 681  34 482 278 806 844 364 384 900 510]\n",
      "index    [ 0  1  2  3  4  5  6  7  8  9 10 11 12 13 14]\n"
     ]
    }
   ],
   "source": [
    "import numpy as np\n",
    "arr=np.random.randint(0,1000,15)\n",
    "index=np.where(arr>25)\n",
    "print(\"elements\", arr)\n",
    "print(\"index   \",index[0])"
   ]
  },
  {
   "cell_type": "code",
   "execution_count": null,
   "id": "ab9de520",
   "metadata": {},
   "outputs": [],
   "source": []
  },
  {
   "cell_type": "code",
   "execution_count": null,
   "id": "3590886b",
   "metadata": {},
   "outputs": [],
   "source": []
  },
  {
   "cell_type": "code",
   "execution_count": null,
   "id": "45b0a176",
   "metadata": {},
   "outputs": [],
   "source": []
  },
  {
   "cell_type": "code",
   "execution_count": null,
   "id": "8f20ce61",
   "metadata": {},
   "outputs": [],
   "source": []
  },
  {
   "cell_type": "code",
   "execution_count": null,
   "id": "6a4ac641",
   "metadata": {},
   "outputs": [],
   "source": []
  },
  {
   "cell_type": "code",
   "execution_count": null,
   "id": "4536ab1e",
   "metadata": {},
   "outputs": [],
   "source": []
  },
  {
   "cell_type": "code",
   "execution_count": null,
   "id": "5594a660",
   "metadata": {},
   "outputs": [],
   "source": []
  },
  {
   "cell_type": "code",
   "execution_count": null,
   "id": "fbeb660c",
   "metadata": {},
   "outputs": [],
   "source": []
  },
  {
   "cell_type": "code",
   "execution_count": null,
   "id": "5ec07f5e",
   "metadata": {},
   "outputs": [],
   "source": []
  },
  {
   "cell_type": "code",
   "execution_count": null,
   "id": "6a994889",
   "metadata": {},
   "outputs": [],
   "source": []
  },
  {
   "cell_type": "code",
   "execution_count": null,
   "id": "f8188e31",
   "metadata": {},
   "outputs": [],
   "source": []
  },
  {
   "cell_type": "code",
   "execution_count": null,
   "id": "1c451b0e",
   "metadata": {},
   "outputs": [],
   "source": []
  },
  {
   "cell_type": "code",
   "execution_count": null,
   "id": "5af03518",
   "metadata": {},
   "outputs": [],
   "source": []
  },
  {
   "cell_type": "code",
   "execution_count": null,
   "id": "349ed60d",
   "metadata": {},
   "outputs": [],
   "source": []
  },
  {
   "cell_type": "code",
   "execution_count": null,
   "id": "53475f56",
   "metadata": {},
   "outputs": [],
   "source": []
  },
  {
   "cell_type": "code",
   "execution_count": null,
   "id": "1d073a54",
   "metadata": {},
   "outputs": [],
   "source": []
  },
  {
   "cell_type": "markdown",
   "id": "83cc51da",
   "metadata": {},
   "source": [
    "## Common attributes for an array\n",
    "- np.shape\n",
    "- np.data\n",
    "- np.dtype\n",
    "- np.strides"
   ]
  },
  {
   "cell_type": "markdown",
   "id": "ab7b9e1f",
   "metadata": {},
   "source": [
    "### np.shape()\n"
   ]
  },
  {
   "cell_type": "code",
   "execution_count": 79,
   "id": "e8bb569c",
   "metadata": {},
   "outputs": [
    {
     "name": "stdout",
     "output_type": "stream",
     "text": [
      "arr1: [0.13823024 0.59374455 0.45816401 0.1561494 ]\n",
      "arr2: [[0.22730656 0.36584991 0.69615102 0.97254121]\n",
      " [0.01544183 0.30539623 0.17340093 0.69616615]\n",
      " [0.07137422 0.16673836 0.36601937 0.9257789 ]\n",
      " [0.9051591  0.62157733 0.38674476 0.37265501]]\n"
     ]
    }
   ],
   "source": [
    "import numpy as np\n",
    "arr1=np.random.rand(4)\n",
    "arr2=np.random.rand(4,4)\n",
    "print(\"arr1:\", arr1)\n",
    "print(\"arr2:\", arr2)"
   ]
  },
  {
   "cell_type": "code",
   "execution_count": 80,
   "id": "bbf0d627",
   "metadata": {},
   "outputs": [
    {
     "name": "stdout",
     "output_type": "stream",
     "text": [
      "(4,)\n",
      "(4, 4)\n"
     ]
    }
   ],
   "source": [
    "print(np.shape(arr1))\n",
    "print(np.shape(arr2))"
   ]
  },
  {
   "cell_type": "markdown",
   "id": "3d085be0",
   "metadata": {},
   "source": [
    "### np.data()"
   ]
  },
  {
   "cell_type": "code",
   "execution_count": 81,
   "id": "617735ee",
   "metadata": {},
   "outputs": [
    {
     "name": "stdout",
     "output_type": "stream",
     "text": [
      "arr1: [0.84605889 0.85754591 0.10158    0.37794618]\n",
      "arr2: [[0.30645317 0.96143505 0.28342306 0.81644496]\n",
      " [0.14258646 0.85795474 0.77023131 0.26439779]\n",
      " [0.61035312 0.23104991 0.35580669 0.87742068]\n",
      " [0.22215481 0.45562748 0.94822309 0.97947649]]\n"
     ]
    }
   ],
   "source": [
    "import numpy as np\n",
    "arr1=np.random.rand(4)\n",
    "arr2=np.random.rand(4,4)\n",
    "print(\"arr1:\", arr1)\n",
    "print(\"arr2:\", arr2)"
   ]
  },
  {
   "cell_type": "code",
   "execution_count": 82,
   "id": "0483f6d2",
   "metadata": {},
   "outputs": [
    {
     "name": "stdout",
     "output_type": "stream",
     "text": [
      "<memory at 0x10a341f00>\n",
      "<memory at 0x10a3adbe0>\n"
     ]
    }
   ],
   "source": [
    "print(arr1.data)\n",
    "print(arr2.data)"
   ]
  },
  {
   "cell_type": "markdown",
   "id": "2fa9a838",
   "metadata": {},
   "source": [
    "### np.dtype()"
   ]
  },
  {
   "cell_type": "code",
   "execution_count": 83,
   "id": "004164f4",
   "metadata": {},
   "outputs": [
    {
     "name": "stdout",
     "output_type": "stream",
     "text": [
      "arr1: [0.29880049 0.60907846 0.65096557 0.4199333 ]\n",
      "arr2: [[0.0396409  0.86774924 0.24286993 0.33010385]\n",
      " [0.34198239 0.0136919  0.5923558  0.34728046]\n",
      " [0.02033211 0.50271584 0.92429044 0.66985043]\n",
      " [0.78598806 0.60585962 0.77399146 0.12381012]]\n"
     ]
    }
   ],
   "source": [
    "import numpy as np\n",
    "arr1=np.random.rand(4)\n",
    "arr2=np.random.rand(4,4)\n",
    "print(\"arr1:\", arr1)\n",
    "print(\"arr2:\", arr2)"
   ]
  },
  {
   "cell_type": "code",
   "execution_count": 84,
   "id": "c2d47a7b",
   "metadata": {},
   "outputs": [
    {
     "name": "stdout",
     "output_type": "stream",
     "text": [
      "float64\n",
      "float64\n"
     ]
    }
   ],
   "source": [
    "print(arr1.dtype)\n",
    "print(arr2.dtype)"
   ]
  },
  {
   "cell_type": "markdown",
   "id": "8b458cc3",
   "metadata": {},
   "source": [
    "### np.strides()"
   ]
  },
  {
   "cell_type": "code",
   "execution_count": 85,
   "id": "3c40d095",
   "metadata": {},
   "outputs": [
    {
     "name": "stdout",
     "output_type": "stream",
     "text": [
      "arr1: [0.44055617 0.05823191 0.65895136 0.45506259]\n",
      "arr2: [[0.32970379 0.54986123 0.48561525 0.29339948]\n",
      " [0.90206711 0.05091621 0.06266967 0.58819686]\n",
      " [0.75123467 0.64895902 0.40123419 0.00800398]\n",
      " [0.70200806 0.93343441 0.79630683 0.87614456]]\n"
     ]
    }
   ],
   "source": [
    "import numpy as np\n",
    "arr1=np.random.rand(4)\n",
    "arr2=np.random.rand(4,4)\n",
    "print(\"arr1:\", arr1)\n",
    "print(\"arr2:\", arr2)"
   ]
  },
  {
   "cell_type": "code",
   "execution_count": 86,
   "id": "6563a117",
   "metadata": {},
   "outputs": [
    {
     "name": "stdout",
     "output_type": "stream",
     "text": [
      "(8,)\n",
      "(32, 8)\n"
     ]
    }
   ],
   "source": [
    "print(arr1.strides)\n",
    "print(arr2.strides)"
   ]
  },
  {
   "cell_type": "markdown",
   "id": "b56c566d",
   "metadata": {},
   "source": [
    "## Mathamatical Operational Methods\n",
    "- a.mean()\n",
    "- a.sum()\n",
    "- a.min()\n",
    "- a.max()\n",
    "- a.argmin()\n",
    "- a.argmax()\n",
    "\n",
    "Note: numpy support operators also <b>Check example 2,3</b>"
   ]
  },
  {
   "cell_type": "code",
   "execution_count": 93,
   "id": "3062d336",
   "metadata": {},
   "outputs": [
    {
     "data": {
      "text/plain": [
       "array([2, 6, 5, 5, 8, 1, 1, 1, 4, 9])"
      ]
     },
     "execution_count": 93,
     "metadata": {},
     "output_type": "execute_result"
    }
   ],
   "source": [
    "import numpy as np\n",
    "arr=np.random.randint(0,10,10)\n",
    "arr"
   ]
  },
  {
   "cell_type": "code",
   "execution_count": 99,
   "id": "37955642",
   "metadata": {},
   "outputs": [
    {
     "name": "stdout",
     "output_type": "stream",
     "text": [
      "4.2\n",
      "42\n",
      "1\n",
      "9\n",
      "5\n",
      "9\n"
     ]
    }
   ],
   "source": [
    "# example 1\n",
    "print(arr.mean())\n",
    "print(arr.sum())\n",
    "print(arr.min())\n",
    "print(arr.max())\n",
    "print(arr.argmin())\n",
    "print(arr.argmax())"
   ]
  },
  {
   "cell_type": "code",
   "execution_count": 105,
   "id": "d9a05c69",
   "metadata": {},
   "outputs": [
    {
     "name": "stdout",
     "output_type": "stream",
     "text": [
      "[ 3  7  6  6  9  2  2  2  5 10]\n",
      "[1 5 4 4 7 0 0 0 3 8]\n",
      "[ 4 12 10 10 16  2  2  2  8 18]\n",
      "[ 4 36 25 25 64  1  1  1 16 81]\n"
     ]
    }
   ],
   "source": [
    "# example 2\n",
    "# Performing mathematical operations using operators\n",
    "res=arr+1\n",
    "print(res)\n",
    "res=arr-1\n",
    "print(res)\n",
    "res=arr*2\n",
    "print(res)\n",
    "res=arr**2\n",
    "print(res)"
   ]
  },
  {
   "cell_type": "code",
   "execution_count": 108,
   "id": "7e825de6",
   "metadata": {},
   "outputs": [
    {
     "name": "stdout",
     "output_type": "stream",
     "text": [
      "[False False False False False False False False False False]\n",
      "[False False False False False False False False False False]\n",
      "[ True  True  True  True  True  True  True  True  True  True]\n"
     ]
    }
   ],
   "source": [
    "# example 3\n",
    "# Performing comperation operations using operators\n",
    "res1=arr+2\n",
    "res2=arr+4\n",
    "print(res1>res2)\n",
    "print(res1==res2)\n",
    "print(res1<res2)"
   ]
  },
  {
   "cell_type": "markdown",
   "id": "f9a093a8",
   "metadata": {},
   "source": [
    "## Logical Operational Methods\n"
   ]
  },
  {
   "cell_type": "code",
   "execution_count": 118,
   "id": "63969dfe",
   "metadata": {},
   "outputs": [
    {
     "name": "stdout",
     "output_type": "stream",
     "text": [
      "[ True  True  True  True  True  True  True  True  True  True  True  True\n",
      "  True  True  True  True  True  True  True  True  True  True  True  True\n",
      "  True  True  True  True  True  True  True  True  True  True  True  True\n",
      "  True  True  True  True  True  True  True  True  True  True  True  True\n",
      "  True  True]\n",
      "[ True  True  True  True  True  True  True  True  True  True  True  True\n",
      "  True  True  True  True  True  True  True  True  True  True  True  True\n",
      "  True  True  True  True  True  True  True  True  True  True  True  True\n",
      "  True  True  True  True  True  True  True  True  True  True  True  True\n",
      "  True  True]\n",
      "[False False False False False False False False False False False False\n",
      " False False False False False False False False False False False False\n",
      " False False False False False False False False False False False False\n",
      " False False False False False False False False False False False False\n",
      " False False]\n"
     ]
    }
   ],
   "source": [
    "# example 1\n",
    "# Performing comperation operations using operators\n",
    "import numpy as np\n",
    "arr=np.random.randint(0,10,50)\n",
    "res1=arr+2\n",
    "res2=arr+4\n",
    "print(np.logical_or(res1,res2))\n",
    "print(np.logical_and(res1,res2))\n",
    "print(np.logical_not(res1))\n"
   ]
  },
  {
   "cell_type": "code",
   "execution_count": null,
   "id": "227033ae",
   "metadata": {},
   "outputs": [],
   "source": []
  }
 ],
 "metadata": {
  "kernelspec": {
   "display_name": "Python 3 (ipykernel)",
   "language": "python",
   "name": "python3"
  },
  "language_info": {
   "codemirror_mode": {
    "name": "ipython",
    "version": 3
   },
   "file_extension": ".py",
   "mimetype": "text/x-python",
   "name": "python",
   "nbconvert_exporter": "python",
   "pygments_lexer": "ipython3",
   "version": "3.11.3"
  }
 },
 "nbformat": 4,
 "nbformat_minor": 5
}
