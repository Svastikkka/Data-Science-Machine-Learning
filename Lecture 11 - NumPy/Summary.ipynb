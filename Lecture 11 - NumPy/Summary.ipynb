{
 "cells": [
  {
   "cell_type": "markdown",
   "id": "b9415da0",
   "metadata": {},
   "source": [
    "### Numpy Properties\n",
    "- np.array()\n",
    "- np.ones()\n",
    "- np.zeros()\n",
    "- np.empty()\n",
    "- np.full()\n",
    "- np.arrange()\n",
    "- np.linespace()\n",
    "- np.identity()\n",
    "- np.eye()\n",
    "- np.random.rand()\n",
    "- np.random.randint()\n",
    "- shape()\n",
    "- data()\n",
    "- dtype()\n",
    "- strides()\n",
    "- np.where()\n",
    "- np.nonzero()\n",
    "- np.argmax()\n",
    "- np.sort()\n",
    "- np.argsort()\n",
    "- np.transpose()\n",
    "- np.reshape()\n",
    "- np.resize()"
   ]
  },
  {
   "cell_type": "code",
   "execution_count": null,
   "id": "5310dc7a",
   "metadata": {},
   "outputs": [],
   "source": [
    "arr.all()"
   ]
  }
 ],
 "metadata": {
  "kernelspec": {
   "display_name": "Python 3 (ipykernel)",
   "language": "python",
   "name": "python3"
  },
  "language_info": {
   "codemirror_mode": {
    "name": "ipython",
    "version": 3
   },
   "file_extension": ".py",
   "mimetype": "text/x-python",
   "name": "python",
   "nbconvert_exporter": "python",
   "pygments_lexer": "ipython3",
   "version": "3.11.3"
  }
 },
 "nbformat": 4,
 "nbformat_minor": 5
}
