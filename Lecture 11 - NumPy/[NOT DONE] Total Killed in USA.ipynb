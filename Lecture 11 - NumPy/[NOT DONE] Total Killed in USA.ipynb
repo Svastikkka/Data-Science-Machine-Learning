{
 "cells": [
  {
   "cell_type": "markdown",
   "id": "9df15264",
   "metadata": {},
   "source": [
    "Given file \"terrorismData.csv\"\n",
    "It is an open-source database including information on terrorist attacks around the world from 1970 through 2017. \n",
    "\n",
    "This dataset includes systematic data on domestic as well as international terrorist incidents that have occurred during this time period\n",
    "\n",
    "#### Problem Statement :\n",
    "Find total number of people killed from USA?\n",
    "Note: Some columns of killed are empty so replace them by 0.\n",
    "Print count of Killed as integer value.\n",
    "\n",
    "#### Output Format :\n",
    "\n",
    "```\n",
    "TotalKilled\n",
    "```"
   ]
  },
  {
   "cell_type": "code",
   "execution_count": 2,
   "id": "1a5ca578",
   "metadata": {},
   "outputs": [
    {
     "name": "stdout",
     "output_type": "stream",
     "text": [
      "3771\n"
     ]
    }
   ],
   "source": [
    "import pandas as pd\n",
    "\n",
    "# Load the dataset from the CSV file\n",
    "data = pd.read_csv(\"../Datasets/terrorismData.csv\")\n",
    "\n",
    "# Print the list of column names to identify the correct column name for 'country'\n",
    "# print(data.columns)\n",
    "\n",
    "# Assuming the column name for country is 'Country' (if it differs, update accordingly)\n",
    "killed_in_usa = data.loc[data['Country'] == 'United States', 'Killed']\n",
    "\n",
    "# Replace missing values with 0\n",
    "killed_in_usa.fillna(0, inplace=True)\n",
    "\n",
    "# Calculate the total number of people killed from the USA\n",
    "total_killed = killed_in_usa.sum()\n",
    "\n",
    "# Print the total number of people killed as an integer\n",
    "print(int(total_killed))\n"
   ]
  },
  {
   "cell_type": "code",
   "execution_count": null,
   "id": "ffd4797d",
   "metadata": {},
   "outputs": [],
   "source": []
  }
 ],
 "metadata": {
  "kernelspec": {
   "display_name": "Python 3 (ipykernel)",
   "language": "python",
   "name": "python3"
  },
  "language_info": {
   "codemirror_mode": {
    "name": "ipython",
    "version": 3
   },
   "file_extension": ".py",
   "mimetype": "text/x-python",
   "name": "python",
   "nbconvert_exporter": "python",
   "pygments_lexer": "ipython3",
   "version": "3.11.3"
  }
 },
 "nbformat": 4,
 "nbformat_minor": 5
}
