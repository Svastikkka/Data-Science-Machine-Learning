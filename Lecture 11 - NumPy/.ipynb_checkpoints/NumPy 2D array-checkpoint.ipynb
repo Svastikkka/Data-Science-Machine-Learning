{
 "cells": [
  {
   "cell_type": "markdown",
   "id": "59e27145",
   "metadata": {},
   "source": [
    "#### Problem Statement:\n",
    "Given a 2D list, create a numpy 2D array using it.\n",
    "*Note*: Given 2D list is [[1, 2, 3], [4, 5, 6], [7, 8, 9]]\n",
    "Print the Numpy array."
   ]
  },
  {
   "cell_type": "code",
   "execution_count": 2,
   "id": "d01eda39",
   "metadata": {},
   "outputs": [
    {
     "data": {
      "text/plain": [
       "array([[1, 2, 3],\n",
       "       [4, 5, 6],\n",
       "       [7, 8, 9]])"
      ]
     },
     "execution_count": 2,
     "metadata": {},
     "output_type": "execute_result"
    }
   ],
   "source": [
    "import numpy as np\n",
    "arr=[[1, 2, 3], [4, 5, 6], [7, 8, 9]]\n",
    "print(np.array(arr))"
   ]
  },
  {
   "cell_type": "code",
   "execution_count": null,
   "id": "d1470dbb",
   "metadata": {},
   "outputs": [],
   "source": []
  }
 ],
 "metadata": {
  "kernelspec": {
   "display_name": "Python 3 (ipykernel)",
   "language": "python",
   "name": "python3"
  },
  "language_info": {
   "codemirror_mode": {
    "name": "ipython",
    "version": 3
   },
   "file_extension": ".py",
   "mimetype": "text/x-python",
   "name": "python",
   "nbconvert_exporter": "python",
   "pygments_lexer": "ipython3",
   "version": "3.11.3"
  }
 },
 "nbformat": 4,
 "nbformat_minor": 5
}
