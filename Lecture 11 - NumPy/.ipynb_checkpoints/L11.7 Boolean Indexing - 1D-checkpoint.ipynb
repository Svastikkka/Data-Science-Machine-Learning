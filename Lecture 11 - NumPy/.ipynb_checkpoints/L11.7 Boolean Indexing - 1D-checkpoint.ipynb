{
 "cells": [
  {
   "cell_type": "markdown",
   "id": "52115dc9",
   "metadata": {},
   "source": [
    "- np.where()"
   ]
  },
  {
   "cell_type": "code",
   "execution_count": 26,
   "id": "dcc39962",
   "metadata": {},
   "outputs": [
    {
     "data": {
      "text/plain": [
       "array([11,  8, 17, 13, 11, 18, 19, 17])"
      ]
     },
     "execution_count": 26,
     "metadata": {},
     "output_type": "execute_result"
    }
   ],
   "source": [
    "import numpy as np\n",
    "arr=np.random.randint(1,20,8)\n",
    "arr"
   ]
  },
  {
   "cell_type": "code",
   "execution_count": 27,
   "id": "447f93b3",
   "metadata": {},
   "outputs": [
    {
     "data": {
      "text/plain": [
       "array([ True, False,  True,  True,  True,  True,  True,  True])"
      ]
     },
     "execution_count": 27,
     "metadata": {},
     "output_type": "execute_result"
    }
   ],
   "source": [
    "bool_arr=arr>10\n",
    "bool_arr"
   ]
  },
  {
   "cell_type": "code",
   "execution_count": 28,
   "id": "30c9439b",
   "metadata": {},
   "outputs": [
    {
     "data": {
      "text/plain": [
       "array([11, 17, 13, 11, 18, 19, 17])"
      ]
     },
     "execution_count": 28,
     "metadata": {},
     "output_type": "execute_result"
    }
   ],
   "source": [
    "new_arr=arr[bool_arr] # Getting only those which are True\n",
    "new_arr"
   ]
  },
  {
   "cell_type": "code",
   "execution_count": 29,
   "id": "54a06bc3",
   "metadata": {},
   "outputs": [
    {
     "data": {
      "text/plain": [
       "array([11, 17, 13, 11, 18, 19, 17])"
      ]
     },
     "execution_count": 29,
     "metadata": {},
     "output_type": "execute_result"
    }
   ],
   "source": [
    "new_arr=arr[arr>10]\n",
    "new_arr"
   ]
  },
  {
   "cell_type": "code",
   "execution_count": 30,
   "id": "b44c3c2a",
   "metadata": {},
   "outputs": [
    {
     "data": {
      "text/plain": [
       "array([11, 13, 11])"
      ]
     },
     "execution_count": 30,
     "metadata": {},
     "output_type": "execute_result"
    }
   ],
   "source": [
    "new_arr=arr[(arr>10) & (arr<15)]\n",
    "new_arr"
   ]
  },
  {
   "cell_type": "code",
   "execution_count": 31,
   "id": "4299b9f9",
   "metadata": {},
   "outputs": [
    {
     "data": {
      "text/plain": [
       "array([10, 10, 10, 13, 11, 18, 19, 17])"
      ]
     },
     "execution_count": 31,
     "metadata": {},
     "output_type": "execute_result"
    }
   ],
   "source": [
    "arr[:3]=10\n",
    "arr"
   ]
  },
  {
   "cell_type": "code",
   "execution_count": 37,
   "id": "93239305",
   "metadata": {},
   "outputs": [
    {
     "name": "stdout",
     "output_type": "stream",
     "text": [
      "(array([3, 5, 6, 7]),)\n"
     ]
    },
    {
     "data": {
      "text/plain": [
       "array([13, 18, 19, 17])"
      ]
     },
     "execution_count": 37,
     "metadata": {},
     "output_type": "execute_result"
    }
   ],
   "source": [
    "index=np.where(arr>11)\n",
    "print(index)\n",
    "arr[index]"
   ]
  },
  {
   "cell_type": "code",
   "execution_count": null,
   "id": "f3b9882a",
   "metadata": {},
   "outputs": [],
   "source": []
  }
 ],
 "metadata": {
  "kernelspec": {
   "display_name": "Python 3 (ipykernel)",
   "language": "python",
   "name": "python3"
  },
  "language_info": {
   "codemirror_mode": {
    "name": "ipython",
    "version": 3
   },
   "file_extension": ".py",
   "mimetype": "text/x-python",
   "name": "python",
   "nbconvert_exporter": "python",
   "pygments_lexer": "ipython3",
   "version": "3.11.3"
  }
 },
 "nbformat": 4,
 "nbformat_minor": 5
}
