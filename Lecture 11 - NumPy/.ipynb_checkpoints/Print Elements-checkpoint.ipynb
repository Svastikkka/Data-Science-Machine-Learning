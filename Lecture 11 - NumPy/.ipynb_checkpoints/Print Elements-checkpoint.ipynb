{
 "cells": [
  {
   "cell_type": "markdown",
   "id": "2a636a1e",
   "metadata": {},
   "source": [
    "#### Problem Statement:\n",
    "Given a 2D integer array size (4, 5) with name input_?\n",
    "\n",
    "Print elements of highlighted matrix"
   ]
  },
  {
   "cell_type": "code",
   "execution_count": 1,
   "id": "eead15c5",
   "metadata": {},
   "outputs": [],
   "source": [
    "arr=[[1,2,3,4,5],[6,7,8,9,10],[11,12,13,14,15],[16,17,18,19,20]]"
   ]
  },
  {
   "cell_type": "code",
   "execution_count": 3,
   "id": "4f49a094",
   "metadata": {},
   "outputs": [
    {
     "data": {
      "text/plain": [
       "array([11, 12, 13])"
      ]
     },
     "execution_count": 3,
     "metadata": {},
     "output_type": "execute_result"
    }
   ],
   "source": [
    "import numpy as np\n",
    "nparr1=np.array(arr)\n",
    "nparr1[2,:3]"
   ]
  },
  {
   "cell_type": "code",
   "execution_count": 5,
   "id": "0a34b531",
   "metadata": {},
   "outputs": [
    {
     "data": {
      "text/plain": [
       "array([ 9, 14, 19])"
      ]
     },
     "execution_count": 5,
     "metadata": {},
     "output_type": "execute_result"
    }
   ],
   "source": [
    "import numpy as np\n",
    "nparr1=np.array(arr)\n",
    "nparr1[1:4,3]"
   ]
  },
  {
   "cell_type": "code",
   "execution_count": 6,
   "id": "cc27d9a3",
   "metadata": {},
   "outputs": [
    {
     "data": {
      "text/plain": [
       "array([[11, 12, 13, 14, 15],\n",
       "       [16, 17, 18, 19, 20]])"
      ]
     },
     "execution_count": 6,
     "metadata": {},
     "output_type": "execute_result"
    }
   ],
   "source": [
    "import numpy as np\n",
    "nparr1=np.array(arr)\n",
    "nparr1[2:4]"
   ]
  },
  {
   "cell_type": "code",
   "execution_count": 7,
   "id": "943aedc9",
   "metadata": {},
   "outputs": [
    {
     "data": {
      "text/plain": [
       "array([[ 7,  8],\n",
       "       [12, 13]])"
      ]
     },
     "execution_count": 7,
     "metadata": {},
     "output_type": "execute_result"
    }
   ],
   "source": [
    "import numpy as np\n",
    "nparr1=np.array(arr)\n",
    "nparr1[1:3,1:3]"
   ]
  },
  {
   "cell_type": "code",
   "execution_count": 10,
   "id": "d4877bdc",
   "metadata": {},
   "outputs": [
    {
     "name": "stdout",
     "output_type": "stream",
     "text": [
      "[1 2 3 4 5]\n",
      "[ 6  7  8  9 10]\n",
      "[11 12 13 14 15]\n",
      "[ 9 14 19]\n",
      "[[11 12 13 14 15]\n",
      " [16 17 18 19 20]]\n",
      "[[11 12 13 14 15]\n",
      " [16 17 18 19 20]]\n"
     ]
    }
   ],
   "source": [
    "import numpy as np\n",
    "nparr1=np.array(arr)\n",
    "for i in range(len(nparr1[2,:3])):\n",
    "    print(nparr1[i])\n",
    "for i in range(len(nparr1[1:4,3])):\n",
    "    print(nparr1[i])\n",
    "print()\n",
    "print(nparr1[2:4])\n",
    "print(nparr1[2:4])"
   ]
  },
  {
   "cell_type": "code",
   "execution_count": null,
   "id": "b746594c",
   "metadata": {},
   "outputs": [],
   "source": []
  }
 ],
 "metadata": {
  "kernelspec": {
   "display_name": "Python 3 (ipykernel)",
   "language": "python",
   "name": "python3"
  },
  "language_info": {
   "codemirror_mode": {
    "name": "ipython",
    "version": 3
   },
   "file_extension": ".py",
   "mimetype": "text/x-python",
   "name": "python",
   "nbconvert_exporter": "python",
   "pygments_lexer": "ipython3",
   "version": "3.11.3"
  }
 },
 "nbformat": 4,
 "nbformat_minor": 5
}
