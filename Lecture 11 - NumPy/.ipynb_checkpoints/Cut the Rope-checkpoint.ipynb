{
 "cells": [
  {
   "cell_type": "markdown",
   "id": "ea372cd5",
   "metadata": {},
   "source": [
    "#### Problem Statement:\n",
    "\n",
    "You are given a rope of length 5m. Cut the rope into 9 parts such that each part is of equal length.\n",
    "\n",
    "*Note*:Array elements are the points where cut is to be made and round upto 2 decimal place.\n",
    "Print the array element.\n",
    "\n",
    "#### Output Format:\n",
    "\n",
    "element1 \n",
    "\n",
    "element2 \n",
    "\n",
    "element3\n",
    "\n",
    "..."
   ]
  },
  {
   "cell_type": "code",
   "execution_count": null,
   "id": "6a9c1727",
   "metadata": {},
   "outputs": [],
   "source": []
  }
 ],
 "metadata": {
  "kernelspec": {
   "display_name": "Python 3 (ipykernel)",
   "language": "python",
   "name": "python3"
  },
  "language_info": {
   "codemirror_mode": {
    "name": "ipython",
    "version": 3
   },
   "file_extension": ".py",
   "mimetype": "text/x-python",
   "name": "python",
   "nbconvert_exporter": "python",
   "pygments_lexer": "ipython3",
   "version": "3.11.3"
  }
 },
 "nbformat": 4,
 "nbformat_minor": 5
}
