{
 "cells": [
  {
   "cell_type": "markdown",
   "id": "80f6d918",
   "metadata": {},
   "source": [
    "#### Problem Statemnt:\n",
    "Given an integer array of size 9 and replace the first occurrence of maximum value by 0?\n",
    "\n",
    "*Note*: Generate the following array\n",
    "```\n",
    "array([11, 2, 13, 4, 15, 6, 27, 8, 19])\n",
    "```\n",
    "Print the Numpy array.\n",
    "\n",
    "#### Output Format :\n",
    "```\n",
    "firstElement\n",
    "secondElement \n",
    "...\n",
    "```"
   ]
  },
  {
   "cell_type": "code",
   "execution_count": 8,
   "id": "c9e189c5",
   "metadata": {},
   "outputs": [
    {
     "name": "stdout",
     "output_type": "stream",
     "text": [
      "[11  2 13  4 15  6  0  8 19]\n"
     ]
    }
   ],
   "source": [
    "import numpy as np\n",
    "arr = np.array([11, 2, 13, 4, 15, 6, 27, 8, 19])\n",
    "index=np.argmax(arr)\n",
    "arr[index]=0\n",
    "print(arr)\n"
   ]
  },
  {
   "cell_type": "code",
   "execution_count": null,
   "id": "7991b6f0",
   "metadata": {},
   "outputs": [],
   "source": []
  }
 ],
 "metadata": {
  "kernelspec": {
   "display_name": "Python 3 (ipykernel)",
   "language": "python",
   "name": "python3"
  },
  "language_info": {
   "codemirror_mode": {
    "name": "ipython",
    "version": 3
   },
   "file_extension": ".py",
   "mimetype": "text/x-python",
   "name": "python",
   "nbconvert_exporter": "python",
   "pygments_lexer": "ipython3",
   "version": "3.11.3"
  }
 },
 "nbformat": 4,
 "nbformat_minor": 5
}
