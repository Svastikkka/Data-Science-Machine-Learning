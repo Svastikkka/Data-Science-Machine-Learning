{
 "cells": [
  {
   "cell_type": "markdown",
   "id": "34535bf3",
   "metadata": {},
   "source": [
    "#### Numpy properties\n",
    "- shape()\n",
    "- data()\n",
    "- dtype()\n",
    "- strides()"
   ]
  },
  {
   "cell_type": "code",
   "execution_count": 10,
   "id": "239756c6",
   "metadata": {},
   "outputs": [
    {
     "name": "stdout",
     "output_type": "stream",
     "text": [
      "1d array\n",
      "(10,)\n",
      "<memory at 0x1067c2e00>\n",
      "int64\n",
      "(8,)\n",
      "2d array\n",
      "(2, 9)\n",
      "<memory at 0x1069b1080>\n",
      "int64\n",
      "(72, 8)\n"
     ]
    }
   ],
   "source": [
    "import numpy as np\n",
    "arr1=[1,2,3,4,5,6,7,8,9,10]\n",
    "arr2=[[1,2,3,4,5,6,7,8,9],[11,12,13,14,15,16,17,18,19]]\n",
    "nparr1=np.array(arr1)\n",
    "nparr2=np.array(arr2)\n",
    "\n",
    "print(\"1d array\")\n",
    "print(nparr1.shape)\n",
    "print(nparr1.data)\n",
    "print(nparr1.dtype)\n",
    "print(nparr1.strides)\n",
    "\n",
    "print(\"2d array\")\n",
    "print(nparr2.shape)\n",
    "print(nparr2.data)\n",
    "print(nparr2.dtype)\n",
    "print(nparr2.strides)"
   ]
  },
  {
   "cell_type": "code",
   "execution_count": null,
   "id": "8ab38665",
   "metadata": {},
   "outputs": [],
   "source": []
  }
 ],
 "metadata": {
  "kernelspec": {
   "display_name": "Python 3 (ipykernel)",
   "language": "python",
   "name": "python3"
  },
  "language_info": {
   "codemirror_mode": {
    "name": "ipython",
    "version": 3
   },
   "file_extension": ".py",
   "mimetype": "text/x-python",
   "name": "python",
   "nbconvert_exporter": "python",
   "pygments_lexer": "ipython3",
   "version": "3.11.3"
  }
 },
 "nbformat": 4,
 "nbformat_minor": 5
}
