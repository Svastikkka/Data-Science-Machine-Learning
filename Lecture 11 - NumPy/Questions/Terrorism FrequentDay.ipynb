{
 "cells": [
  {
   "cell_type": "markdown",
   "id": "36f9f945",
   "metadata": {},
   "source": [
    "# Problem statement\n",
    "Given file \"terrorismData.csv\"\n",
    "\n",
    "It is an open-source database including information on terrorist attacks around the world from 1970 through 2017. This dataset includes systematic data on domestic as well as international terrorist incidents that have occurred during this time period\n",
    "\n",
    "## Problem Statement :\n",
    "Find the most frequent day of attack in a terrorismDataset ?\n",
    "\n",
    "*Note*: Here np.unique can be used.\n",
    "\n",
    "Print count of frequent day and number of attack as Integer value.\n",
    "\n",
    "## Output Format :\n",
    "Day NumberOFAttack"
   ]
  },
  {
   "cell_type": "code",
   "execution_count": 2,
   "id": "5df45d63",
   "metadata": {},
   "outputs": [],
   "source": [
    "import pandas as pd\n",
    "import numpy as np\n",
    "data = pd.read_csv(\"/Users/manshusharma/Documents/Personal/Data-Science-Machine-Learning/Datasets/terrorismData.csv\")"
   ]
  },
  {
   "cell_type": "code",
   "execution_count": 3,
   "id": "d4b9d2af",
   "metadata": {},
   "outputs": [
    {
     "data": {
      "text/plain": [
       "Index(['Year', 'Month', 'Day', 'Country', 'State', 'Region', 'City',\n",
       "       'Latitude', 'Longitude', 'AttackType', 'Killed', 'Wounded', 'Target',\n",
       "       'Summary', 'Group', 'Target_type', 'Weapon_type'],\n",
       "      dtype='object')"
      ]
     },
     "execution_count": 3,
     "metadata": {},
     "output_type": "execute_result"
    }
   ],
   "source": [
    "data.columns"
   ]
  },
  {
   "cell_type": "code",
   "execution_count": 26,
   "id": "344a65b7",
   "metadata": {},
   "outputs": [],
   "source": [
    "day = data[\"Day\"]"
   ]
  },
  {
   "cell_type": "code",
   "execution_count": 27,
   "id": "75326b15",
   "metadata": {},
   "outputs": [
    {
     "data": {
      "text/plain": [
       "(array([ 0,  1,  2,  3,  4,  5,  6,  7,  8,  9, 10, 11, 12, 13, 14, 15, 16,\n",
       "        17, 18, 19, 20, 21, 22, 23, 24, 25, 26, 27, 28, 29, 30, 31]),\n",
       " array([ 891, 6344, 5954, 6011, 6153, 5844, 5781, 5997, 5859, 6057, 6064,\n",
       "        5936, 6012, 6043, 6028, 6500, 6112, 5852, 5880, 5973, 5930, 5827,\n",
       "        5799, 5782, 5752, 5875, 5823, 5937, 6027, 5507, 5046, 3095]))"
      ]
     },
     "execution_count": 27,
     "metadata": {},
     "output_type": "execute_result"
    }
   ],
   "source": [
    "unique_day = np.unique(day,return_counts=True)\n",
    "unique_day"
   ]
  },
  {
   "cell_type": "code",
   "execution_count": 28,
   "id": "cd0ce836",
   "metadata": {},
   "outputs": [],
   "source": [
    "most_frequent_day_index = np.argmax(unique_day[1])"
   ]
  },
  {
   "cell_type": "code",
   "execution_count": 29,
   "id": "19b6c563",
   "metadata": {},
   "outputs": [
    {
     "name": "stdout",
     "output_type": "stream",
     "text": [
      "15 6500\n"
     ]
    }
   ],
   "source": [
    "most_frequent_day = unique_day[0][most_frequent_day_index]\n",
    "most_frequent_day_count = unique_day[1][most_frequent_day_index]\n",
    "\n",
    "# Print the most frequent day and the number of attacks on that day as integer values\n",
    "print(int(most_frequent_day), int(most_frequent_day_count))"
   ]
  }
 ],
 "metadata": {
  "kernelspec": {
   "display_name": "svastikkka",
   "language": "python",
   "name": "python3"
  },
  "language_info": {
   "codemirror_mode": {
    "name": "ipython",
    "version": 3
   },
   "file_extension": ".py",
   "mimetype": "text/x-python",
   "name": "python",
   "nbconvert_exporter": "python",
   "pygments_lexer": "ipython3",
   "version": "3.9.21"
  }
 },
 "nbformat": 4,
 "nbformat_minor": 5
}
