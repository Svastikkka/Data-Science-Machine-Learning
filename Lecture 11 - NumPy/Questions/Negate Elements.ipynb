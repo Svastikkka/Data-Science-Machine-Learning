{
 "cells": [
  {
   "cell_type": "markdown",
   "id": "fc6cc9fb",
   "metadata": {},
   "source": [
    "#### Problem Statemnt:\n",
    "Given a 1D array, negate all elements which are between 3 and 8 (both inclusive)?\n",
    "\n",
    "*Note*: Generate the following array\n",
    "\n",
    "```\n",
    "array([1, 2, 3, 4, 5, 6, 7, 8, 9, 10])\n",
    "```\n",
    "Print the Numpy array.\n",
    "#### Output Format :\n",
    "```\n",
    "firstElement \n",
    "secondElement  \n",
    "...\n",
    "```"
   ]
  },
  {
   "cell_type": "code",
   "execution_count": 12,
   "id": "fc03c1a8",
   "metadata": {},
   "outputs": [
    {
     "data": {
      "text/plain": [
       "array([ 1,  2, -3, -4, -5, -6, -7, -8,  9, 10])"
      ]
     },
     "execution_count": 12,
     "metadata": {},
     "output_type": "execute_result"
    }
   ],
   "source": [
    "import numpy as np\n",
    "arr=np.arange(1,11)\n",
    "arr[(arr>=3) & (arr<=8)]*=-1\n",
    "arr"
   ]
  },
  {
   "cell_type": "code",
   "execution_count": null,
   "id": "249f2bea",
   "metadata": {},
   "outputs": [],
   "source": []
  }
 ],
 "metadata": {
  "kernelspec": {
   "display_name": "Python 3 (ipykernel)",
   "language": "python",
   "name": "python3"
  },
  "language_info": {
   "codemirror_mode": {
    "name": "ipython",
    "version": 3
   },
   "file_extension": ".py",
   "mimetype": "text/x-python",
   "name": "python",
   "nbconvert_exporter": "python",
   "pygments_lexer": "ipython3",
   "version": "3.11.3"
  }
 },
 "nbformat": 4,
 "nbformat_minor": 5
}
