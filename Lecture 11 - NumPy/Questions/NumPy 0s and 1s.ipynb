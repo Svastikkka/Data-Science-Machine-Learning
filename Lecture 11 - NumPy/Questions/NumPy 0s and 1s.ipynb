{
 "cells": [
  {
   "cell_type": "markdown",
   "id": "9b5aa24a",
   "metadata": {},
   "source": [
    "#### Problem Statement:\n",
    "Create an integer array of size 10, where all the values should be 0 but the fifth value should be 1.\n",
    "Print the elements of array."
   ]
  },
  {
   "cell_type": "code",
   "execution_count": 8,
   "id": "23227162",
   "metadata": {},
   "outputs": [
    {
     "name": "stdout",
     "output_type": "stream",
     "text": [
      "0 0 0 0 1 0 0 0 0 0 "
     ]
    }
   ],
   "source": [
    "import numpy as np\n",
    "a=np.zeros(10,dtype=int)\n",
    "a[4]=1\n",
    "for i in range(len(a)):\n",
    "    print(a[i],end=\" \")"
   ]
  },
  {
   "cell_type": "code",
   "execution_count": null,
   "id": "64de65b5",
   "metadata": {},
   "outputs": [],
   "source": []
  }
 ],
 "metadata": {
  "kernelspec": {
   "display_name": "Python 3 (ipykernel)",
   "language": "python",
   "name": "python3"
  },
  "language_info": {
   "codemirror_mode": {
    "name": "ipython",
    "version": 3
   },
   "file_extension": ".py",
   "mimetype": "text/x-python",
   "name": "python",
   "nbconvert_exporter": "python",
   "pygments_lexer": "ipython3",
   "version": "3.11.3"
  }
 },
 "nbformat": 4,
 "nbformat_minor": 5
}
