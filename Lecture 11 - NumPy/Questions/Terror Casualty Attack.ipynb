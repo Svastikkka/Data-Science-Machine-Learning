{
 "cells": [
  {
   "cell_type": "markdown",
   "id": "4b28ca20",
   "metadata": {},
   "source": [
    "# Problem statement\n",
    "Given file \"terrorismData.csv\"\n",
    "\n",
    "It is an open-source database including information on terrorist attacks around the world from 1970 through 2017. This dataset includes systematic data on domestic as well as international terrorist incidents that have occurred during this time period\n",
    "\n",
    "## Problem Statement :\n",
    "As we knew the Kargil ( in Jammu and Kashmir) War that took place between May 1999 and July 1999 (3 Months) ,so there was a huge conflict in Kashmir Valley during this period.\n",
    "\n",
    "In this dataset, there is no information regarding the war between the two countries to find out the casualty during the war.\n",
    "\n",
    "So find out the attack in this period in which maximum casualties happened.\n",
    "\n",
    "Print the count of casualties (as integer), city in which that attack happened and name of attack group.\n",
    "\n",
    "Note : Casualty = Killed + Wounded.Fill the empty value in killed or wounded feature to 0.\n",
    "\n",
    "## Output Format :\n",
    "Casualty City TerroristGroup"
   ]
  },
  {
   "cell_type": "code",
   "execution_count": 1,
   "id": "538641cc",
   "metadata": {},
   "outputs": [],
   "source": [
    "import pandas as pd\n",
    "data = pd.read_csv(\"/Users/manshusharma/Documents/Personal/Data-Science-Machine-Learning/Datasets/terrorismData.csv\")"
   ]
  },
  {
   "cell_type": "code",
   "execution_count": 2,
   "id": "2efe373d",
   "metadata": {},
   "outputs": [
    {
     "name": "stdout",
     "output_type": "stream",
     "text": [
      "22 Kargil District Separatists\n"
     ]
    }
   ],
   "source": [
    "data[\"Killed\"].fillna(0,inplace=True)\n",
    "data[\"Wounded\"].fillna(0,inplace=True)\n",
    "data[\"Casualty\"] = data[\"Killed\"]+data[\"Wounded\"]\n",
    "newData = data.loc[(data[\"State\"]==\"Jammu and Kashmir\") & (data[\"Year\"]==1999) & (data[\"City\"]==\"Kargil District\")]\n",
    "Casualty = newData[\"Casualty\"].values[0]\n",
    "City = newData[\"City\"].values[0]\n",
    "Group = newData[\"Group\"].values[0]\n",
    "print(int(Casualty),City,Group)"
   ]
  }
 ],
 "metadata": {
  "kernelspec": {
   "display_name": "algo",
   "language": "python",
   "name": "python3"
  },
  "language_info": {
   "codemirror_mode": {
    "name": "ipython",
    "version": 3
   },
   "file_extension": ".py",
   "mimetype": "text/x-python",
   "name": "python",
   "nbconvert_exporter": "python",
   "pygments_lexer": "ipython3",
   "version": "3.8.20"
  }
 },
 "nbformat": 4,
 "nbformat_minor": 5
}
