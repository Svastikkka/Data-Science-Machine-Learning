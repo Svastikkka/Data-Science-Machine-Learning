{
 "cells": [
  {
   "cell_type": "markdown",
   "id": "c66371be",
   "metadata": {},
   "source": [
    "# Problem statement\n",
    "Given file \"terrorismData.csv\"\n",
    "\n",
    "It is an open-source database including information on terrorist attacks around the world from 1970 through 2017. This dataset includes systematic data on domestic as well as international terrorist incidents that have occurred during this time period\n",
    "\n",
    "## Problem Statement :\n",
    "Find the casualty in the Red Corridor States ? Mainly Red corridor states include Jharkhand, Odisha, Andhra Pradesh, and Chhattisgarh.\n",
    "\n",
    "Note: Casualty=Killed +Wounded\n",
    "\n",
    "Print count of Casualty as integer value.\n",
    "\n",
    "## Output Format :\n",
    "Count"
   ]
  },
  {
   "cell_type": "code",
   "execution_count": 1,
   "id": "1c736f70",
   "metadata": {},
   "outputs": [],
   "source": [
    "import pandas as pd\n",
    "data = pd.read_csv(\"/Users/manshusharma/Documents/Personal/Data-Science-Machine-Learning/Datasets/terrorismData.csv\")"
   ]
  },
  {
   "cell_type": "code",
   "execution_count": 2,
   "id": "e23b5e77",
   "metadata": {},
   "outputs": [
    {
     "data": {
      "text/plain": [
       "5628.0"
      ]
     },
     "execution_count": 2,
     "metadata": {},
     "output_type": "execute_result"
    }
   ],
   "source": [
    "red_corridor_states = ['Jharkhand', 'Odisha', 'Andhra Pradesh','Chhattisgarh']\n",
    "newData = data.loc[data[\"State\"].isin(red_corridor_states)].copy()\n",
    "newData['Killed'].fillna(0, inplace=True)\n",
    "newData['Wounded'].fillna(0, inplace=True)\n",
    "\n",
    "newData[\"Casualty\"] = newData['Killed']+newData['Wounded']\n",
    "newData[\"Casualty\"].sum()"
   ]
  }
 ],
 "metadata": {
  "kernelspec": {
   "display_name": "algo",
   "language": "python",
   "name": "python3"
  },
  "language_info": {
   "codemirror_mode": {
    "name": "ipython",
    "version": 3
   },
   "file_extension": ".py",
   "mimetype": "text/x-python",
   "name": "python",
   "nbconvert_exporter": "python",
   "pygments_lexer": "ipython3",
   "version": "3.8.20"
  }
 },
 "nbformat": 4,
 "nbformat_minor": 5
}
