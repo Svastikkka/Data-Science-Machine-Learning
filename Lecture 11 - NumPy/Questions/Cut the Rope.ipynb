{
 "cells": [
  {
   "cell_type": "markdown",
   "id": "ea372cd5",
   "metadata": {},
   "source": [
    "#### Problem Statement:\n",
    "\n",
    "You are given a rope of length 5m. Cut the rope into 9 parts such that each part is of equal length.\n",
    "\n",
    "*Note*:Array elements are the points where cut is to be made and round upto 2 decimal place.\n",
    "Print the array element.\n",
    "\n",
    "#### Output Format:\n",
    "\n",
    "element1 \n",
    "\n",
    "element2 \n",
    "\n",
    "element3\n",
    "\n",
    "..."
   ]
  },
  {
   "cell_type": "code",
   "execution_count": 3,
   "id": "6a9c1727",
   "metadata": {},
   "outputs": [
    {
     "name": "stdout",
     "output_type": "stream",
     "text": [
      "0.56\n",
      "1.11\n",
      "1.67\n",
      "2.22\n",
      "2.78\n",
      "3.33\n",
      "3.89\n",
      "4.44\n"
     ]
    }
   ],
   "source": [
    "import numpy as np\n",
    "\n",
    "# Define the total length of the rope and the number of parts\n",
    "total_length_m = 5.0\n",
    "num_parts = 9\n",
    "\n",
    "# Calculate the length of each part\n",
    "length_of_each_part_m = total_length_m / num_parts\n",
    "\n",
    "# Generate the array of cut points\n",
    "cut_points = np.arange(length_of_each_part_m, total_length_m, length_of_each_part_m)\n",
    "\n",
    "# Round the cut points to 2 decimal places\n",
    "cut_points = np.round(cut_points, 2)\n",
    "\n",
    "# Print the array of cut points\n",
    "for i in range(len(cut_points)):\n",
    "    print(cut_points[i])\n"
   ]
  },
  {
   "cell_type": "code",
   "execution_count": null,
   "id": "f93dec54",
   "metadata": {},
   "outputs": [],
   "source": []
  }
 ],
 "metadata": {
  "kernelspec": {
   "display_name": "Python 3 (ipykernel)",
   "language": "python",
   "name": "python3"
  },
  "language_info": {
   "codemirror_mode": {
    "name": "ipython",
    "version": 3
   },
   "file_extension": ".py",
   "mimetype": "text/x-python",
   "name": "python",
   "nbconvert_exporter": "python",
   "pygments_lexer": "ipython3",
   "version": "3.11.3"
  }
 },
 "nbformat": 4,
 "nbformat_minor": 5
}
