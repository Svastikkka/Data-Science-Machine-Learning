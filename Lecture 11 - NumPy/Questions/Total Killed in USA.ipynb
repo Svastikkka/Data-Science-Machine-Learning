{
 "cells": [
  {
   "cell_type": "markdown",
   "id": "9df15264",
   "metadata": {},
   "source": [
    "# Problem statement\n",
    "Given file \"terrorismData.csv\"\n",
    "\n",
    "It is an open-source database including information on terrorist attacks around the world from 1970 through 2017. This dataset includes systematic data on domestic as well as international terrorist incidents that have occurred during this time period\n",
    "\n",
    "## Problem Statement :\n",
    "Find total number of people killed from USA?\n",
    "\n",
    "Note: Some columns of killed are empty so replace them by 0.\n",
    "\n",
    "Print count of Killed as integer value.\n",
    "\n",
    "## Output Format :\n",
    "TotalKilled"
   ]
  },
  {
   "cell_type": "code",
   "execution_count": 1,
   "id": "1a5ca578",
   "metadata": {},
   "outputs": [],
   "source": [
    "import pandas as pd\n",
    "data = pd.read_csv(\"/Users/manshusharma/Documents/Personal/Data-Science-Machine-Learning/Datasets/terrorismData.csv\")"
   ]
  },
  {
   "cell_type": "code",
   "execution_count": 2,
   "id": "ffd4797d",
   "metadata": {},
   "outputs": [],
   "source": [
    "total_killed  = data.groupby(\"Country\")[\"Killed\"].sum()"
   ]
  },
  {
   "cell_type": "code",
   "execution_count": 3,
   "id": "3032c887",
   "metadata": {},
   "outputs": [
    {
     "name": "stdout",
     "output_type": "stream",
     "text": [
      "3771\n"
     ]
    }
   ],
   "source": [
    "total_killed_usa = total_killed.loc[\"United States\"]\n",
    "print(int(total_killed_usa))"
   ]
  }
 ],
 "metadata": {
  "kernelspec": {
   "display_name": "algo",
   "language": "python",
   "name": "python3"
  },
  "language_info": {
   "codemirror_mode": {
    "name": "ipython",
    "version": 3
   },
   "file_extension": ".py",
   "mimetype": "text/x-python",
   "name": "python",
   "nbconvert_exporter": "python",
   "pygments_lexer": "ipython3",
   "version": "3.8.20"
  }
 },
 "nbformat": 4,
 "nbformat_minor": 5
}
