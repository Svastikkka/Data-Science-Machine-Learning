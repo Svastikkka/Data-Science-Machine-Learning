{
 "cells": [
  {
   "cell_type": "markdown",
   "id": "3772969e",
   "metadata": {},
   "source": [
    "#### Problem Statemnt:\n",
    "Sort a given 2D array of shape (4, 5) by 2nd column (i.e. column at index 1) in ascending order.\n",
    "That means, we should re-arrange complete row based on 2nd columns' values.\n",
    "\n",
    "Given 2D array is:\n",
    "```\n",
    " [[21 20 19 18 17]\n",
    " [16 15 14 13 12]\n",
    " [11 10  9  8  7]\n",
    " [ 6  5  4  3  2]]\n",
    "```\n",
    "Print the 2D array in sorted order.\n",
    "\n",
    "*Note* you have to generate the 2D Array.Here 2nd column means column present at index 1.\n",
    "\n",
    "#### Output Format :\n",
    "```\n",
    "[[ 6  5  4  3  2]\n",
    "[11 10  9  8  7]\n",
    "[16 15 14 13 12]\n",
    "[21 20 19 18 17]]\n",
    "```"
   ]
  },
  {
   "cell_type": "code",
   "execution_count": 37,
   "id": "f0a336ca",
   "metadata": {},
   "outputs": [
    {
     "data": {
      "text/plain": [
       "array([[ 6,  5,  4,  3,  2],\n",
       "       [11, 10,  9,  8,  7],\n",
       "       [16, 15, 14, 13, 12],\n",
       "       [21, 20, 19, 18, 17]])"
      ]
     },
     "execution_count": 37,
     "metadata": {},
     "output_type": "execute_result"
    }
   ],
   "source": [
    "import numpy as np\n",
    "arr = np.array( [[21,20,19,18,17],[16,15,14,13,12],[11,10,9,8,7],[6,5,4,3,2]])\n",
    "index=np.argsort(arr[:,1])\n",
    "index\n",
    "arr[index]"
   ]
  },
  {
   "cell_type": "code",
   "execution_count": 23,
   "id": "244343c4",
   "metadata": {},
   "outputs": [
    {
     "name": "stdout",
     "output_type": "stream",
     "text": [
      "[[ 6  5  4  3  2]\n",
      " [11 10  9  8  7]\n",
      " [16 15 14 13 12]\n",
      " [21 20 19 18 17]]\n"
     ]
    }
   ],
   "source": [
    "import numpy as np\n",
    "\n",
    "# Generate the 2D array\n",
    "array = np.array([[21, 20, 19, 18, 17],\n",
    "                  [16, 15, 14, 13, 12],\n",
    "                  [11, 10, 9, 8, 7],\n",
    "                  [6, 5, 4, 3, 2]])\n",
    "\n",
    "# Get the indices that would sort the array along the 2nd column\n",
    "sort_indices = np.argsort(array[:, 1])\n",
    "\n",
    "# Rearrange the rows of the array based on the sort indices\n",
    "sorted_array = array[sort_indices]\n",
    "\n",
    "# Print the sorted 2D array\n",
    "print(sorted_array)"
   ]
  },
  {
   "cell_type": "code",
   "execution_count": null,
   "id": "d9b0e955",
   "metadata": {},
   "outputs": [],
   "source": []
  }
 ],
 "metadata": {
  "kernelspec": {
   "display_name": "Python 3 (ipykernel)",
   "language": "python",
   "name": "python3"
  },
  "language_info": {
   "codemirror_mode": {
    "name": "ipython",
    "version": 3
   },
   "file_extension": ".py",
   "mimetype": "text/x-python",
   "name": "python",
   "nbconvert_exporter": "python",
   "pygments_lexer": "ipython3",
   "version": "3.11.3"
  }
 },
 "nbformat": 4,
 "nbformat_minor": 5
}
