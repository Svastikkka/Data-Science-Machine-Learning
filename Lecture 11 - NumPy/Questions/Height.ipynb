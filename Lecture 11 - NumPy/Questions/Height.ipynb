{
 "cells": [
  {
   "cell_type": "markdown",
   "id": "8afb99b2",
   "metadata": {},
   "source": [
    "#### Problem Statemnt:\n",
    "\n",
    "Given age and height of 20 students in two different numpy arrays with name age and height (in cms). Print the age of those students whose height is above 155 cm.\n",
    "Print the Numpy array.\n",
    "\n",
    "#### Output Format:\n",
    "\n",
    "```\n",
    "age1 height1 \n",
    "age2 height2 \n",
    "...\n",
    "```"
   ]
  },
  {
   "cell_type": "code",
   "execution_count": 5,
   "id": "d63114bd",
   "metadata": {},
   "outputs": [
    {
     "name": "stdout",
     "output_type": "stream",
     "text": [
      "20 165\n",
      "19 158\n",
      "18 160\n",
      "21 170\n",
      "20 175\n",
      "19 168\n",
      "23 162\n",
      "20 159\n",
      "21 170\n",
      "22 171\n",
      "19 157\n",
      "20 166\n",
      "18 164\n",
      "21 161\n",
      "22 172\n",
      "23 167\n",
      "19 163\n",
      "20 160\n",
      "21 169\n"
     ]
    }
   ],
   "source": [
    "import numpy as np\n",
    "\n",
    "# Given numpy arrays\n",
    "age = np.array([20, 19, 22, 18, 21, 20, 19, 23, 20, 21,\n",
    "                22, 19, 20, 18, 21, 22, 23, 19, 20, 21])\n",
    "\n",
    "height = np.array([165, 158, 152, 160, 170, 175, 168, 162, 159, 170,\n",
    "                   171, 157, 166, 164, 161, 172, 167, 163, 160, 169])\n",
    "index=np.where(height>155)\n",
    "for i in index[0]:\n",
    "    print(age[i],height[i])\n",
    "    "
   ]
  },
  {
   "cell_type": "code",
   "execution_count": null,
   "id": "d9e86f21",
   "metadata": {},
   "outputs": [],
   "source": []
  }
 ],
 "metadata": {
  "kernelspec": {
   "display_name": "Python 3 (ipykernel)",
   "language": "python",
   "name": "python3"
  },
  "language_info": {
   "codemirror_mode": {
    "name": "ipython",
    "version": 3
   },
   "file_extension": ".py",
   "mimetype": "text/x-python",
   "name": "python",
   "nbconvert_exporter": "python",
   "pygments_lexer": "ipython3",
   "version": "3.11.3"
  }
 },
 "nbformat": 4,
 "nbformat_minor": 5
}
