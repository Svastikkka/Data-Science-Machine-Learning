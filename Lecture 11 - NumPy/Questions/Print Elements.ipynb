{
 "cells": [
  {
   "cell_type": "markdown",
   "id": "deb3db1a",
   "metadata": {},
   "source": [
    "#### Problem Statement:\n",
    "Given a 2D integer array size (4, 5) with name input_?\n",
    "\n",
    "Print elements of highlighted matrix"
   ]
  },
  {
   "cell_type": "code",
   "execution_count": 1,
   "id": "5359c30e",
   "metadata": {},
   "outputs": [],
   "source": [
    "arr=[[1,2,3,4,5],[6,7,8,9,10],[11,12,13,14,15],[16,17,18,19,20]]"
   ]
  },
  {
   "cell_type": "code",
   "execution_count": 3,
   "id": "1f873ccb",
   "metadata": {},
   "outputs": [
    {
     "data": {
      "text/plain": [
       "array([11, 12, 13])"
      ]
     },
     "execution_count": 3,
     "metadata": {},
     "output_type": "execute_result"
    }
   ],
   "source": [
    "import numpy as np\n",
    "nparr1=np.array(arr)\n",
    "nparr1[2,:3]"
   ]
  },
  {
   "cell_type": "code",
   "execution_count": 5,
   "id": "1ba090af",
   "metadata": {},
   "outputs": [
    {
     "data": {
      "text/plain": [
       "array([ 9, 14, 19])"
      ]
     },
     "execution_count": 5,
     "metadata": {},
     "output_type": "execute_result"
    }
   ],
   "source": [
    "import numpy as np\n",
    "nparr1=np.array(arr)\n",
    "nparr1[1:4,3]"
   ]
  },
  {
   "cell_type": "code",
   "execution_count": 6,
   "id": "f433b5b5",
   "metadata": {},
   "outputs": [
    {
     "data": {
      "text/plain": [
       "array([[11, 12, 13, 14, 15],\n",
       "       [16, 17, 18, 19, 20]])"
      ]
     },
     "execution_count": 6,
     "metadata": {},
     "output_type": "execute_result"
    }
   ],
   "source": [
    "import numpy as np\n",
    "nparr1=np.array(arr)\n",
    "nparr1[2:4]"
   ]
  },
  {
   "cell_type": "code",
   "execution_count": 7,
   "id": "a982d4ef",
   "metadata": {},
   "outputs": [
    {
     "data": {
      "text/plain": [
       "array([[ 7,  8],\n",
       "       [12, 13]])"
      ]
     },
     "execution_count": 7,
     "metadata": {},
     "output_type": "execute_result"
    }
   ],
   "source": [
    "import numpy as np\n",
    "nparr1=np.array(arr)\n",
    "nparr1[1:3,1:3]"
   ]
  },
  {
   "cell_type": "code",
   "execution_count": 33,
   "id": "a47f78cc",
   "metadata": {},
   "outputs": [
    {
     "name": "stdout",
     "output_type": "stream",
     "text": [
      "11 12 13 \n",
      "9 14 19 \n",
      "11 12 13 14 15 16 17 18 19 20 \n",
      "7 8 12 13 \n"
     ]
    }
   ],
   "source": [
    "import numpy as np\n",
    "nparr1=np.array(arr)\n",
    "temp=[]\n",
    "temp=nparr1[2,:3]\n",
    "for i in temp:\n",
    "    print(i,end=\" \")\n",
    "print()\n",
    "temp=nparr1[1:4,3]\n",
    "for i in temp:\n",
    "    print(i,end=\" \")\n",
    "print()\n",
    "temp=nparr1[2:4]\n",
    "for i in range(len(temp)):\n",
    "    for j in range(len(temp[0])):\n",
    "        print(temp[i][j],end=\" \")\n",
    "print()\n",
    "temp=nparr1[1:3,1:3]\n",
    "for i in range(len(temp)):\n",
    "    for j in range(len(temp[0])):\n",
    "        print(temp[i][j],end=\" \")\n",
    "print()"
   ]
  },
  {
   "cell_type": "code",
   "execution_count": null,
   "id": "40ed0980",
   "metadata": {},
   "outputs": [],
   "source": []
  }
 ],
 "metadata": {
  "kernelspec": {
   "display_name": "Python 3 (ipykernel)",
   "language": "python",
   "name": "python3"
  },
  "language_info": {
   "codemirror_mode": {
    "name": "ipython",
    "version": 3
   },
   "file_extension": ".py",
   "mimetype": "text/x-python",
   "name": "python",
   "nbconvert_exporter": "python",
   "pygments_lexer": "ipython3",
   "version": "3.11.3"
  }
 },
 "nbformat": 4,
 "nbformat_minor": 5
}
