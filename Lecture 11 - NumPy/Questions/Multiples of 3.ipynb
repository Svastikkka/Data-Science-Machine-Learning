{
 "cells": [
  {
   "cell_type": "markdown",
   "id": "b2b0d2c7",
   "metadata": {},
   "source": [
    "#### Problem Statement:\n",
    "Given an integer array of size 10. Print the index of elements which are multiple of 3.\n",
    "\n",
    "*Note*: Generate the following array\n",
    "```\n",
    "array([ 1,  3,  5,  7,  9, 11, 13, 15, 17, 19])\n",
    "```\n",
    "Print the index of elements.\n",
    "#### Output Format :\n",
    "```\n",
    "index1 index2 index3 ... \n",
    "```"
   ]
  },
  {
   "cell_type": "code",
   "execution_count": 1,
   "id": "ddb9c96f",
   "metadata": {},
   "outputs": [],
   "source": [
    "arr=[ 1,  3,  5,  7,  9, 11, 13, 15, 17, 19]"
   ]
  },
  {
   "cell_type": "code",
   "execution_count": 5,
   "id": "e8c72a64",
   "metadata": {},
   "outputs": [
    {
     "name": "stdout",
     "output_type": "stream",
     "text": [
      "1 4 7 "
     ]
    }
   ],
   "source": [
    "import numpy as np\n",
    "np_arr=np.array(arr)\n",
    "res=np.where(np_arr%3==0)[0]\n",
    "for i in res:\n",
    "    print(i,end=\" \")"
   ]
  },
  {
   "cell_type": "code",
   "execution_count": null,
   "id": "99dcf13a",
   "metadata": {},
   "outputs": [],
   "source": []
  }
 ],
 "metadata": {
  "kernelspec": {
   "display_name": "Python 3 (ipykernel)",
   "language": "python",
   "name": "python3"
  },
  "language_info": {
   "codemirror_mode": {
    "name": "ipython",
    "version": 3
   },
   "file_extension": ".py",
   "mimetype": "text/x-python",
   "name": "python",
   "nbconvert_exporter": "python",
   "pygments_lexer": "ipython3",
   "version": "3.11.3"
  }
 },
 "nbformat": 4,
 "nbformat_minor": 5
}
