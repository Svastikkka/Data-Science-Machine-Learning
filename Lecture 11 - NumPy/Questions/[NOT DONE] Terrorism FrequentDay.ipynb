{
 "cells": [
  {
   "cell_type": "markdown",
   "id": "f3202f1b",
   "metadata": {},
   "source": [
    "# Problem statement\n",
    "Given file \"terrorismData.csv\"\n",
    "\n",
    "It is an open-source database including information on terrorist attacks around the world from 1970 through 2017. This dataset includes systematic data on domestic as well as international terrorist incidents that have occurred during this time period\n",
    "\n",
    "## Problem Statement :\n",
    "Find the most frequent day of attack in a terrorismDataset ?\n",
    "\n",
    "Note: Here np.unique can be used.\n",
    "\n",
    "Print count of frequent day and number of attack as Integer value.\n",
    "\n",
    "## Output Format :\n",
    "Day NumberOFAttack"
   ]
  },
  {
   "cell_type": "code",
   "execution_count": 4,
   "id": "f795adbe",
   "metadata": {},
   "outputs": [],
   "source": [
    "import pandas as pd\n",
    "import numpy as np\n",
    "data = pd.read_csv(\"/Users/manshusharma/Documents/Personal/Data-Science-Machine-Learning/Datasets/terrorismData.csv\")"
   ]
  },
  {
   "cell_type": "code",
   "execution_count": 14,
   "id": "f40e8093",
   "metadata": {},
   "outputs": [
    {
     "data": {
      "text/plain": [
       "15"
      ]
     },
     "execution_count": 14,
     "metadata": {},
     "output_type": "execute_result"
    }
   ],
   "source": [
    "day_counts = np.unique(data[\"Day\"],return_counts=True)\n",
    "most_frequent_day_index = np.argmax(day_counts[1])\n",
    "most_frequent_day_index"
   ]
  },
  {
   "cell_type": "code",
   "execution_count": null,
   "id": "de57c61d",
   "metadata": {},
   "outputs": [
    {
     "name": "stdout",
     "output_type": "stream",
     "text": [
      "15 6500\n"
     ]
    }
   ],
   "source": [
    "most_frequent_day = day_counts[0][most_frequent_day_index]\n",
    "most_frequent_day_count = day_counts[1][most_frequent_day_index]\n",
    "print(int(most_frequent_day), int(most_frequent_day_count))"
   ]
  },
  {
   "cell_type": "code",
   "execution_count": null,
   "id": "0e0b416a",
   "metadata": {},
   "outputs": [],
   "source": []
  }
 ],
 "metadata": {
  "kernelspec": {
   "display_name": "algo",
   "language": "python",
   "name": "python3"
  },
  "language_info": {
   "codemirror_mode": {
    "name": "ipython",
    "version": 3
   },
   "file_extension": ".py",
   "mimetype": "text/x-python",
   "name": "python",
   "nbconvert_exporter": "python",
   "pygments_lexer": "ipython3",
   "version": "3.8.20"
  }
 },
 "nbformat": 4,
 "nbformat_minor": 5
}
