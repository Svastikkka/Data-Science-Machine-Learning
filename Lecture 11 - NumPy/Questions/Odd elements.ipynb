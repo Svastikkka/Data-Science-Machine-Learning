{
 "cells": [
  {
   "cell_type": "markdown",
   "id": "930fa74a",
   "metadata": {},
   "source": [
    "#### Problem Statemnt:\n",
    "Given an integer array of size 10. Replace the odd number in numpy array with -1 ?\n",
    "\n",
    "*Note*: Generate the following array\n",
    "```\n",
    "array([1, 2, 3, 4, 5, 6, 7, 8, 9, 10])\n",
    "```\n",
    "Print the Numpy array.\n",
    "\n",
    "#### Output Format :\n",
    "```\n",
    "firstElement secondElement  ... \n",
    "```"
   ]
  },
  {
   "cell_type": "code",
   "execution_count": 1,
   "id": "7f15c141",
   "metadata": {},
   "outputs": [],
   "source": [
    "arr = [1, 2, 3, 4, 5, 6, 7, 8, 9, 10]"
   ]
  },
  {
   "cell_type": "code",
   "execution_count": 11,
   "id": "42eabf2d",
   "metadata": {},
   "outputs": [
    {
     "name": "stdout",
     "output_type": "stream",
     "text": [
      "[-1  2 -1  4 -1  6 -1  8 -1 10]\n"
     ]
    }
   ],
   "source": [
    "# Option 1\n",
    "import numpy as np\n",
    "nparr=np.array(arr)\n",
    "res=np.where(nparr%2!=0)\n",
    "for i in res:\n",
    "    nparr[i]=-1\n",
    "print(nparr)"
   ]
  },
  {
   "cell_type": "code",
   "execution_count": 13,
   "id": "dee3b8e4",
   "metadata": {},
   "outputs": [
    {
     "name": "stdout",
     "output_type": "stream",
     "text": [
      "-1 2 -1 4 -1 6 -1 8 -1 10 "
     ]
    }
   ],
   "source": [
    "# Option 2\n",
    "arr = [1, 2, 3, 4, 5, 6, 7, 8, 9, 10]\n",
    "import numpy as np\n",
    "nparr=np.array(arr)\n",
    "nparr[nparr%2!=0]=-1\n",
    "for i in nparr:\n",
    "    print(i, end=\" \")"
   ]
  },
  {
   "cell_type": "code",
   "execution_count": 1,
   "id": "6ff87f0b",
   "metadata": {},
   "outputs": [
    {
     "data": {
      "text/plain": [
       "array([-1,  2, -1,  4, -1,  6, -1,  8, -1, 10])"
      ]
     },
     "execution_count": 1,
     "metadata": {},
     "output_type": "execute_result"
    }
   ],
   "source": [
    "import numpy as np\n",
    "arr = [1, 2, 3, 4, 5, 6, 7, 8, 9, 10]\n",
    "arr = np.array(arr)\n",
    "arr[np.where((arr%2)!=0)]=-1\n",
    "arr"
   ]
  }
 ],
 "metadata": {
  "kernelspec": {
   "display_name": "svastikkka",
   "language": "python",
   "name": "python3"
  },
  "language_info": {
   "codemirror_mode": {
    "name": "ipython",
    "version": 3
   },
   "file_extension": ".py",
   "mimetype": "text/x-python",
   "name": "python",
   "nbconvert_exporter": "python",
   "pygments_lexer": "ipython3",
   "version": "3.9.21"
  }
 },
 "nbformat": 4,
 "nbformat_minor": 5
}
