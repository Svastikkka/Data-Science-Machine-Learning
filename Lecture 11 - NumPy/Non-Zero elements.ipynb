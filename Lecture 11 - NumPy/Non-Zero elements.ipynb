{
 "cells": [
  {
   "cell_type": "markdown",
   "id": "11f8e9a6",
   "metadata": {},
   "source": [
    "#### Problem Statemnt:\n",
    "Find indices of non-zero elements from the array [1,2,0,0,4,0] ?\n",
    "\n",
    "Print the index of non-zero elements.\n",
    "\n",
    "#### Output Format :\n",
    "```\n",
    "index1 index2 index3 ... \n",
    "```"
   ]
  },
  {
   "cell_type": "code",
   "execution_count": 21,
   "id": "241a682e",
   "metadata": {},
   "outputs": [],
   "source": [
    "arr=[1,2,0,0,4,0]"
   ]
  },
  {
   "cell_type": "code",
   "execution_count": 22,
   "id": "211bebd2",
   "metadata": {},
   "outputs": [
    {
     "data": {
      "text/plain": [
       "array([1, 2, 0, 0, 4, 0])"
      ]
     },
     "execution_count": 22,
     "metadata": {},
     "output_type": "execute_result"
    }
   ],
   "source": [
    "import numpy as np\n",
    "np_arr=np.array(arr)\n",
    "np_arr\n"
   ]
  },
  {
   "cell_type": "code",
   "execution_count": 31,
   "id": "0725fc29",
   "metadata": {},
   "outputs": [
    {
     "name": "stdout",
     "output_type": "stream",
     "text": [
      "0 1 4 "
     ]
    }
   ],
   "source": [
    "nonzero_indices=np.nonzero(np_arr)[0]\n",
    "for i in nonzero_indices:\n",
    "    print(i,end=\" \")"
   ]
  },
  {
   "cell_type": "code",
   "execution_count": 32,
   "id": "3d6b4109",
   "metadata": {},
   "outputs": [
    {
     "name": "stdout",
     "output_type": "stream",
     "text": [
      "0 1 4 "
     ]
    }
   ],
   "source": [
    "nonzero_indices=np.where(np_arr)[0]\n",
    "for i in nonzero_indices:\n",
    "    print(i,end=\" \")"
   ]
  },
  {
   "cell_type": "code",
   "execution_count": null,
   "id": "7cd5500b",
   "metadata": {},
   "outputs": [],
   "source": []
  }
 ],
 "metadata": {
  "kernelspec": {
   "display_name": "Python 3 (ipykernel)",
   "language": "python",
   "name": "python3"
  },
  "language_info": {
   "codemirror_mode": {
    "name": "ipython",
    "version": 3
   },
   "file_extension": ".py",
   "mimetype": "text/x-python",
   "name": "python",
   "nbconvert_exporter": "python",
   "pygments_lexer": "ipython3",
   "version": "3.11.3"
  }
 },
 "nbformat": 4,
 "nbformat_minor": 5
}
