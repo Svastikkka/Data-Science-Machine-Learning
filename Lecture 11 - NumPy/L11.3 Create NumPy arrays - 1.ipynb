{
 "cells": [
  {
   "cell_type": "markdown",
   "id": "0460b294",
   "metadata": {},
   "source": [
    "- np.array()\n",
    "- np.ones()\n",
    "- np.zeros()\n",
    "- np.empty()\n",
    "- np.full()"
   ]
  },
  {
   "cell_type": "code",
   "execution_count": 37,
   "id": "fe2430d4",
   "metadata": {},
   "outputs": [
    {
     "name": "stdout",
     "output_type": "stream",
     "text": [
      "[1 2 3 4]\n"
     ]
    },
    {
     "data": {
      "text/plain": [
       "numpy.ndarray"
      ]
     },
     "execution_count": 37,
     "metadata": {},
     "output_type": "execute_result"
    }
   ],
   "source": [
    "import numpy as np\n",
    "a=[1,2,3,4]\n",
    "b=np.array(a)\n",
    "print(b)\n",
    "type(b)"
   ]
  },
  {
   "cell_type": "code",
   "execution_count": 38,
   "id": "f133a449",
   "metadata": {},
   "outputs": [
    {
     "name": "stdout",
     "output_type": "stream",
     "text": [
      "['1' '2' '3' '4' 'a' 'b']\n"
     ]
    },
    {
     "data": {
      "text/plain": [
       "numpy.ndarray"
      ]
     },
     "execution_count": 38,
     "metadata": {},
     "output_type": "execute_result"
    }
   ],
   "source": [
    "import numpy as np\n",
    "a=[1,2,3,4,'a','b']\n",
    "b=np.array(a)\n",
    "print(b)\n",
    "type(b)"
   ]
  },
  {
   "cell_type": "code",
   "execution_count": 39,
   "id": "665f5679",
   "metadata": {},
   "outputs": [
    {
     "name": "stdout",
     "output_type": "stream",
     "text": [
      "[1 2 3 4 5 6 7]\n"
     ]
    },
    {
     "data": {
      "text/plain": [
       "numpy.ndarray"
      ]
     },
     "execution_count": 39,
     "metadata": {},
     "output_type": "execute_result"
    }
   ],
   "source": [
    "# char '6.6' cannot be converted to int but char '6.6' can be converted to float\n",
    "import numpy as np\n",
    "a=[1,2,3,4,'5','6',7.1]\n",
    "b=np.array(a, dtype=int)\n",
    "print(b)\n",
    "type(b)"
   ]
  },
  {
   "cell_type": "code",
   "execution_count": 40,
   "id": "be4044f1",
   "metadata": {},
   "outputs": [
    {
     "name": "stdout",
     "output_type": "stream",
     "text": [
      "[1.  2.  3.  4.  5.  6.6 7.1]\n"
     ]
    },
    {
     "data": {
      "text/plain": [
       "numpy.ndarray"
      ]
     },
     "execution_count": 40,
     "metadata": {},
     "output_type": "execute_result"
    }
   ],
   "source": [
    "# char '6.6' cannot be converted to int but char '6.6' can be converted to float\n",
    "import numpy as np\n",
    "a=[1,2,3,4,'5','6.6',7.1]\n",
    "b=np.array(a, dtype=float)\n",
    "print(b)\n",
    "type(b)"
   ]
  },
  {
   "cell_type": "code",
   "execution_count": 41,
   "id": "3b732031",
   "metadata": {},
   "outputs": [
    {
     "name": "stdout",
     "output_type": "stream",
     "text": [
      "['1' '2' '3' '4' '5' '6.6' '7.1' 'a']\n"
     ]
    },
    {
     "data": {
      "text/plain": [
       "numpy.ndarray"
      ]
     },
     "execution_count": 41,
     "metadata": {},
     "output_type": "execute_result"
    }
   ],
   "source": [
    "import numpy as np\n",
    "a=[1,2,3,4,'5','6.6',7.1, 'a']\n",
    "b=np.array(a, dtype=str)\n",
    "print(b)\n",
    "type(b)"
   ]
  },
  {
   "cell_type": "code",
   "execution_count": 42,
   "id": "826b645b",
   "metadata": {},
   "outputs": [
    {
     "name": "stdout",
     "output_type": "stream",
     "text": [
      "['1' '2' '3' '4' '5' '6.6' '7.1' 'a' '1' '2' '3' '4' '5' '6.6' '7.1' 'a'\n",
      " '1' '2' '3' '4' '5' '6.6' '7.1' 'a']\n"
     ]
    },
    {
     "data": {
      "text/plain": [
       "numpy.ndarray"
      ]
     },
     "execution_count": 42,
     "metadata": {},
     "output_type": "execute_result"
    }
   ],
   "source": [
    "# create 3 times duplicate array\n",
    "\n",
    "import numpy as np\n",
    "a=[1,2,3,4,'5','6.6',7.1, 'a']\n",
    "b=np.array(a*3, dtype=str)\n",
    "print(b)\n",
    "type(b)"
   ]
  },
  {
   "cell_type": "code",
   "execution_count": 43,
   "id": "62832c13",
   "metadata": {},
   "outputs": [
    {
     "name": "stdout",
     "output_type": "stream",
     "text": [
      "[1. 1. 1.]\n",
      "[1 1 1]\n"
     ]
    },
    {
     "data": {
      "text/plain": [
       "numpy.ndarray"
      ]
     },
     "execution_count": 43,
     "metadata": {},
     "output_type": "execute_result"
    }
   ],
   "source": [
    "# Example of np.ones() by default it gives float 1s \n",
    "import numpy as np\n",
    "a = np.ones(3)\n",
    "print(a)\n",
    "type(a)\n",
    "\n",
    "b = np.ones(3, dtype= int)\n",
    "print(b)\n",
    "type(b)"
   ]
  },
  {
   "cell_type": "code",
   "execution_count": 44,
   "id": "85a1c505",
   "metadata": {},
   "outputs": [
    {
     "name": "stdout",
     "output_type": "stream",
     "text": [
      "[0. 0. 0.]\n",
      "[0 0 0]\n"
     ]
    }
   ],
   "source": [
    "import numpy as np\n",
    "a=np.zeros(3)\n",
    "print(a)\n",
    "b=np.zeros(3, dtype=int)\n",
    "print(b)\n"
   ]
  },
  {
   "cell_type": "code",
   "execution_count": 45,
   "id": "61d02fe0",
   "metadata": {},
   "outputs": [
    {
     "name": "stdout",
     "output_type": "stream",
     "text": [
      "[[0. 0. 0. 0.]\n",
      " [0. 0. 0. 0.]\n",
      " [0. 0. 0. 0.]]\n",
      "[[0 0 0 0]\n",
      " [0 0 0 0]\n",
      " [0 0 0 0]]\n"
     ]
    }
   ],
   "source": [
    "# Creating 2D array\n",
    "import numpy as np\n",
    "a=np.zeros((3,4))\n",
    "print(a)\n",
    "b=np.zeros((3,4), dtype=int)\n",
    "print(b)"
   ]
  },
  {
   "cell_type": "code",
   "execution_count": 46,
   "id": "69a3e882",
   "metadata": {},
   "outputs": [
    {
     "name": "stdout",
     "output_type": "stream",
     "text": [
      "[4 4 4]\n",
      "[[5 5 5 5]\n",
      " [5 5 5 5]\n",
      " [5 5 5 5]]\n",
      "[[6. 6. 6. 6.]\n",
      " [6. 6. 6. 6.]\n",
      " [6. 6. 6. 6.]]\n"
     ]
    }
   ],
   "source": [
    "import numpy as np\n",
    "a=np.full(3,4)\n",
    "print(a)\n",
    "b=np.full((3,4),5)\n",
    "print(b)\n",
    "c=np.full((3,4),6, dtype=float)\n",
    "print(c)\n"
   ]
  },
  {
   "cell_type": "code",
   "execution_count": 55,
   "id": "15dde0c3",
   "metadata": {},
   "outputs": [
    {
     "name": "stdout",
     "output_type": "stream",
     "text": [
      "[2.05833592e-312 2.33419537e-312]\n",
      "[[0.00000000e+000 5.21501879e-310]\n",
      " [5.21501879e-310 5.21501879e-310]]\n",
      "[[              0 105553155326118]\n",
      " [105553155359920 105553155359824]]\n"
     ]
    }
   ],
   "source": [
    "# numpy.empty(shape, dtype = float, order = ‘C’) : Return a new array of given shape and type, with random values.\n",
    "# Referece: https://www.geeksforgeeks.org/numpy-empty-python/\n",
    "import numpy as np\n",
    "a=np.empty(2)\n",
    "print(a)\n",
    "b=np.empty([2,2])\n",
    "print(b)\n",
    "c=np.empty([2,2], dtype=int)\n",
    "print(c)"
   ]
  },
  {
   "cell_type": "code",
   "execution_count": null,
   "id": "8213741d",
   "metadata": {},
   "outputs": [],
   "source": []
  }
 ],
 "metadata": {
  "kernelspec": {
   "display_name": "Python 3 (ipykernel)",
   "language": "python",
   "name": "python3"
  },
  "language_info": {
   "codemirror_mode": {
    "name": "ipython",
    "version": 3
   },
   "file_extension": ".py",
   "mimetype": "text/x-python",
   "name": "python",
   "nbconvert_exporter": "python",
   "pygments_lexer": "ipython3",
   "version": "3.11.3"
  }
 },
 "nbformat": 4,
 "nbformat_minor": 5
}
