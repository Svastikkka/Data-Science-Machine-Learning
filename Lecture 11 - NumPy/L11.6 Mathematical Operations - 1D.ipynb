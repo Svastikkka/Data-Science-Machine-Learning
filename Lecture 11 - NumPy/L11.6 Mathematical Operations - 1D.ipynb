{
 "cells": [
  {
   "cell_type": "code",
   "execution_count": 50,
   "id": "84aaedd1",
   "metadata": {},
   "outputs": [
    {
     "name": "stdout",
     "output_type": "stream",
     "text": [
      "[1, 2, 3, 4, 5, 6, 6, 7, 8, 9]\n",
      "[7 7 3 9 1]\n"
     ]
    }
   ],
   "source": [
    "import numpy as np\n",
    "arr=[1,2,3,4,5,6,6,7,8,9]\n",
    "nparr=np.random.randint(1,10,5)\n",
    "print(arr)\n",
    "print(nparr)"
   ]
  },
  {
   "cell_type": "code",
   "execution_count": 51,
   "id": "2fbd80ac",
   "metadata": {},
   "outputs": [
    {
     "name": "stdout",
     "output_type": "stream",
     "text": [
      "[2, 3, 4, 5, 6, 7, 7, 8, 9, 10]\n"
     ]
    }
   ],
   "source": [
    "# List comprehession example without using numpy\n",
    "arr=[i+1 for i in arr]\n",
    "print(arr)"
   ]
  },
  {
   "cell_type": "code",
   "execution_count": 52,
   "id": "d2f5d35d",
   "metadata": {},
   "outputs": [
    {
     "name": "stdout",
     "output_type": "stream",
     "text": [
      "[ 8  8  4 10  2]\n",
      "[6 6 2 8 0]\n",
      "[14 14  6 18  2]\n",
      "[1.33333333 1.33333333 2.         1.25              inf]\n"
     ]
    },
    {
     "name": "stderr",
     "output_type": "stream",
     "text": [
      "/var/folders/zb/z9z78mj15550thyl2dy60k9m0000gn/T/ipykernel_2356/3288633054.py:8: RuntimeWarning: divide by zero encountered in divide\n",
      "  d=a/b\n"
     ]
    }
   ],
   "source": [
    "# In numpy\n",
    "a=nparr+1\n",
    "print(a)\n",
    "b=nparr-1\n",
    "print(b)\n",
    "c=nparr*2\n",
    "print(c)\n",
    "d=a/b\n",
    "print(d)\n",
    "\n"
   ]
  },
  {
   "cell_type": "code",
   "execution_count": 53,
   "id": "5bab80a2",
   "metadata": {},
   "outputs": [
    {
     "name": "stdout",
     "output_type": "stream",
     "text": [
      "[ 8  8  4 10  2]\n",
      "6.4\n",
      "32\n",
      "2\n",
      "10\n",
      "4\n",
      "3\n"
     ]
    }
   ],
   "source": [
    "# Using Inbuilt funtion\n",
    "print(a)\n",
    "print(a.mean())\n",
    "print(a.sum())\n",
    "print(a.min())\n",
    "print(a.max())\n",
    "print(a.argmin())\n",
    "print(a.argmax())"
   ]
  },
  {
   "cell_type": "code",
   "execution_count": 54,
   "id": "9d0c9e04",
   "metadata": {},
   "outputs": [
    {
     "name": "stdout",
     "output_type": "stream",
     "text": [
      "[ 8  8  4 10  2]\n",
      "[6 6 2 8 0]\n",
      "[ True  True  True  True  True]\n",
      "[False False False False False]\n",
      "[False False False False False]\n"
     ]
    }
   ],
   "source": [
    "# Performing comparission operations on numpy array\n",
    "print(a)\n",
    "print(b)\n",
    "print(a>b)\n",
    "print(a==b)\n",
    "print(a<b)\n"
   ]
  },
  {
   "cell_type": "code",
   "execution_count": 55,
   "id": "dc7bc97c",
   "metadata": {},
   "outputs": [
    {
     "name": "stdout",
     "output_type": "stream",
     "text": [
      "[ 8  8  4 10  2]\n",
      "[6 6 2 8 0]\n",
      "[ True  True  True  True  True]\n",
      "[ True  True  True  True False]\n",
      "[False False False False False]\n"
     ]
    }
   ],
   "source": [
    "# Logical operations on numpy array\n",
    "print(a)\n",
    "print(b)\n",
    "print(np.logical_or(a,b))\n",
    "print(np.logical_and(a,b))\n",
    "print(np.logical_not(a))"
   ]
  },
  {
   "cell_type": "code",
   "execution_count": null,
   "id": "6162d865",
   "metadata": {},
   "outputs": [],
   "source": []
  },
  {
   "cell_type": "code",
   "execution_count": null,
   "id": "5fa1b293",
   "metadata": {},
   "outputs": [],
   "source": []
  }
 ],
 "metadata": {
  "kernelspec": {
   "display_name": "Python 3 (ipykernel)",
   "language": "python",
   "name": "python3"
  },
  "language_info": {
   "codemirror_mode": {
    "name": "ipython",
    "version": 3
   },
   "file_extension": ".py",
   "mimetype": "text/x-python",
   "name": "python",
   "nbconvert_exporter": "python",
   "pygments_lexer": "ipython3",
   "version": "3.11.3"
  }
 },
 "nbformat": 4,
 "nbformat_minor": 5
}
