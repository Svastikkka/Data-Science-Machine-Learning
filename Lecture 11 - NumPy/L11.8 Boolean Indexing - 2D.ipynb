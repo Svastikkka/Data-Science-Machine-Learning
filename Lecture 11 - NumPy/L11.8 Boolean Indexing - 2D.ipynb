{
 "cells": [
  {
   "cell_type": "code",
   "execution_count": 21,
   "id": "fcea473d",
   "metadata": {},
   "outputs": [
    {
     "data": {
      "text/plain": [
       "array([[20, 19, 17, 26, 14],\n",
       "       [18, 20, 20, 16, 12],\n",
       "       [ 1, 28, 29, 15, 16],\n",
       "       [18, 12, 14, 18,  6],\n",
       "       [29, 21,  8,  8, 10],\n",
       "       [13, 26, 19,  2,  1]])"
      ]
     },
     "execution_count": 21,
     "metadata": {},
     "output_type": "execute_result"
    }
   ],
   "source": [
    "import numpy as np\n",
    "arr=np.random.randint(1,30,(6,5))\n",
    "arr"
   ]
  },
  {
   "cell_type": "code",
   "execution_count": 22,
   "id": "992373ac",
   "metadata": {},
   "outputs": [],
   "source": [
    "bool_arr=arr>20"
   ]
  },
  {
   "cell_type": "code",
   "execution_count": 23,
   "id": "193dfcf2",
   "metadata": {},
   "outputs": [],
   "source": [
    "arr[bool_arr]=100"
   ]
  },
  {
   "cell_type": "code",
   "execution_count": 24,
   "id": "bf43f53c",
   "metadata": {},
   "outputs": [
    {
     "data": {
      "text/plain": [
       "array([[ 20,  19,  17, 100,  14],\n",
       "       [ 18,  20,  20,  16,  12],\n",
       "       [  1, 100, 100,  15,  16],\n",
       "       [ 18,  12,  14,  18,   6],\n",
       "       [100, 100,   8,   8,  10],\n",
       "       [ 13, 100,  19,   2,   1]])"
      ]
     },
     "execution_count": 24,
     "metadata": {},
     "output_type": "execute_result"
    }
   ],
   "source": [
    "arr"
   ]
  },
  {
   "cell_type": "code",
   "execution_count": 25,
   "id": "7cbfadf3",
   "metadata": {},
   "outputs": [],
   "source": [
    "bool_arr=arr[:,3] == 100"
   ]
  },
  {
   "cell_type": "code",
   "execution_count": 26,
   "id": "2c48f863",
   "metadata": {},
   "outputs": [
    {
     "data": {
      "text/plain": [
       "array([ True, False, False, False, False, False])"
      ]
     },
     "execution_count": 26,
     "metadata": {},
     "output_type": "execute_result"
    }
   ],
   "source": [
    "bool_arr"
   ]
  },
  {
   "cell_type": "code",
   "execution_count": 27,
   "id": "d65fcb13",
   "metadata": {},
   "outputs": [],
   "source": [
    "arr[bool_arr,3]=95"
   ]
  },
  {
   "cell_type": "code",
   "execution_count": 28,
   "id": "e1ad8c42",
   "metadata": {},
   "outputs": [
    {
     "data": {
      "text/plain": [
       "array([[ 20,  19,  17,  95,  14],\n",
       "       [ 18,  20,  20,  16,  12],\n",
       "       [  1, 100, 100,  15,  16],\n",
       "       [ 18,  12,  14,  18,   6],\n",
       "       [100, 100,   8,   8,  10],\n",
       "       [ 13, 100,  19,   2,   1]])"
      ]
     },
     "execution_count": 28,
     "metadata": {},
     "output_type": "execute_result"
    }
   ],
   "source": [
    "arr"
   ]
  },
  {
   "cell_type": "code",
   "execution_count": null,
   "id": "11ed94e1",
   "metadata": {},
   "outputs": [],
   "source": []
  }
 ],
 "metadata": {
  "kernelspec": {
   "display_name": "Python 3 (ipykernel)",
   "language": "python",
   "name": "python3"
  },
  "language_info": {
   "codemirror_mode": {
    "name": "ipython",
    "version": 3
   },
   "file_extension": ".py",
   "mimetype": "text/x-python",
   "name": "python",
   "nbconvert_exporter": "python",
   "pygments_lexer": "ipython3",
   "version": "3.11.3"
  }
 },
 "nbformat": 4,
 "nbformat_minor": 5
}
