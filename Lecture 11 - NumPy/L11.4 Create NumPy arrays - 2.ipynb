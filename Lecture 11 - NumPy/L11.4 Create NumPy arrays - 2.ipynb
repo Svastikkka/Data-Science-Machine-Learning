{
 "cells": [
  {
   "cell_type": "markdown",
   "id": "9cfa30ca",
   "metadata": {},
   "source": [
    "- np.arrange()\n",
    "- np.linespace()\n",
    "- np.identity()\n",
    "- np.eye()\n",
    "- np.random.rand()\n",
    "- np.random.randint()"
   ]
  },
  {
   "cell_type": "markdown",
   "id": "33ba2cea",
   "metadata": {},
   "source": [
    "The `arange([start,] stop[, step,][, dtype])` : Returns an array with evenly spaced elements as per the interval. The interval mentioned is half-opened i.e. [Start, Stop) \n",
    "\n",
    "*Reference*: https://www.geeksforgeeks.org/numpy-arrange-in-python/"
   ]
  },
  {
   "cell_type": "code",
   "execution_count": 12,
   "id": "a303c723",
   "metadata": {},
   "outputs": [
    {
     "name": "stdout",
     "output_type": "stream",
     "text": [
      "[0 1 2 3 4 5 6 7 8 9]\n",
      "[1 2 3 4 5 6 7 8 9]\n",
      "[1. 2. 3. 4. 5. 6. 7. 8. 9.]\n",
      "[1. 3. 5. 7. 9.]\n"
     ]
    }
   ],
   "source": [
    "import numpy as np\n",
    "a=np.arange(10)\n",
    "print(a)\n",
    "b=np.arange(1,10)\n",
    "print(b)\n",
    "c=np.arange(1,10,dtype=float)\n",
    "print(c)\n",
    "d=np.arange(1,10,2,dtype=float)\n",
    "print(d)\n"
   ]
  },
  {
   "cell_type": "markdown",
   "id": "36ada6bc",
   "metadata": {},
   "source": [
    "The `numpy.linspace()` function returns number spaces evenly w.r.t interval. \n",
    "Similar to numpy.arange() function but instead of step it uses sample number.\n",
    "```\n",
    "numpy.linspace(start,\n",
    "               stop,\n",
    "               num = 50,\n",
    "               endpoint = True,\n",
    "               retstep = False,\n",
    "               dtype = None)\n",
    "```\n",
    "Parameter\n",
    "\n",
    "```\n",
    "-> start  : [optional] start of interval range. By default start = 0\n",
    "-> stop   : end of interval range\n",
    "-> restep : If True, return (samples, step). By default restep = False\n",
    "-> num    : [int, optional] No. of samples to generate\n",
    "-> dtype  : type of output array\n",
    "```\n",
    "\n",
    "Reference: https://www.geeksforgeeks.org/numpy-linspace-python/"
   ]
  },
  {
   "cell_type": "code",
   "execution_count": 19,
   "id": "f167b506",
   "metadata": {},
   "outputs": [
    {
     "name": "stdout",
     "output_type": "stream",
     "text": [
      "[ 1.          1.18367347  1.36734694  1.55102041  1.73469388  1.91836735\n",
      "  2.10204082  2.28571429  2.46938776  2.65306122  2.83673469  3.02040816\n",
      "  3.20408163  3.3877551   3.57142857  3.75510204  3.93877551  4.12244898\n",
      "  4.30612245  4.48979592  4.67346939  4.85714286  5.04081633  5.2244898\n",
      "  5.40816327  5.59183673  5.7755102   5.95918367  6.14285714  6.32653061\n",
      "  6.51020408  6.69387755  6.87755102  7.06122449  7.24489796  7.42857143\n",
      "  7.6122449   7.79591837  7.97959184  8.16326531  8.34693878  8.53061224\n",
      "  8.71428571  8.89795918  9.08163265  9.26530612  9.44897959  9.63265306\n",
      "  9.81632653 10.        ]\n",
      "[ 1.     1.375  1.75   2.125  2.5    2.875  3.25   3.625  4.     4.375\n",
      "  4.75   5.125  5.5    5.875  6.25   6.625  7.     7.375  7.75   8.125\n",
      "  8.5    8.875  9.25   9.625 10.   ]\n",
      "[ 1  1  1  1  1  1  2  2  2  2  2  3  3  3  3  3  3  4  4  4  4  4  5  5\n",
      "  5  5  5  5  6  6  6  6  6  7  7  7  7  7  7  8  8  8  8  8  9  9  9  9\n",
      "  9 10]\n",
      "[2 3 5 6 8]\n"
     ]
    }
   ],
   "source": [
    "import numpy as np\n",
    "a=np.linspace(1,10)\n",
    "print(a)\n",
    "b=np.linspace(1,10,25)\n",
    "print(b)\n",
    "c=np.linspace(1,10,50, dtype=int)\n",
    "print(c)\n",
    "d=np.linspace(2,10,5,dtype=int, endpoint=False)\n",
    "print(d)"
   ]
  },
  {
   "cell_type": "code",
   "execution_count": 21,
   "id": "df4fe17c",
   "metadata": {},
   "outputs": [
    {
     "name": "stdout",
     "output_type": "stream",
     "text": [
      "[[1. 0. 0. 0. 0.]\n",
      " [0. 1. 0. 0. 0.]\n",
      " [0. 0. 1. 0. 0.]\n",
      " [0. 0. 0. 1. 0.]\n",
      " [0. 0. 0. 0. 1.]]\n"
     ]
    }
   ],
   "source": [
    "import numpy as np\n",
    "a=np.identity(5)\n",
    "print(a)"
   ]
  },
  {
   "cell_type": "code",
   "execution_count": 23,
   "id": "2214018b",
   "metadata": {},
   "outputs": [
    {
     "name": "stdout",
     "output_type": "stream",
     "text": [
      "[[1. 0. 0. 0. 0.]\n",
      " [0. 1. 0. 0. 0.]\n",
      " [0. 0. 1. 0. 0.]\n",
      " [0. 0. 0. 1. 0.]\n",
      " [0. 0. 0. 0. 1.]\n",
      " [0. 0. 0. 0. 0.]\n",
      " [0. 0. 0. 0. 0.]\n",
      " [0. 0. 0. 0. 0.]\n",
      " [0. 0. 0. 0. 0.]\n",
      " [0. 0. 0. 0. 0.]]\n"
     ]
    }
   ],
   "source": [
    "import numpy as np\n",
    "a=np.eye(10,5)\n",
    "print(a)"
   ]
  },
  {
   "cell_type": "code",
   "execution_count": 24,
   "id": "eb4474cd",
   "metadata": {},
   "outputs": [
    {
     "name": "stdout",
     "output_type": "stream",
     "text": [
      "[[0.3675038  0.06937585 0.03020872 0.88272852 0.05471172]\n",
      " [0.33303288 0.5808051  0.27608972 0.1434749  0.62601589]\n",
      " [0.13109715 0.69682418 0.18395515 0.37751547 0.938197  ]\n",
      " [0.38113516 0.52241946 0.97260043 0.6233041  0.59103822]\n",
      " [0.43301015 0.87541288 0.80982744 0.94620715 0.31564181]\n",
      " [0.48049626 0.98697163 0.09676762 0.20385735 0.22472151]\n",
      " [0.42412866 0.20861189 0.99127159 0.18327082 0.73784942]\n",
      " [0.7812235  0.51012937 0.86858508 0.47156246 0.89200258]\n",
      " [0.78130759 0.68821455 0.44392143 0.36856599 0.77248261]\n",
      " [0.57706699 0.0791958  0.19017455 0.01896785 0.30141649]]\n"
     ]
    }
   ],
   "source": [
    "import numpy as np\n",
    "a=np.random.rand(10,5)\n",
    "print(a)"
   ]
  },
  {
   "cell_type": "code",
   "execution_count": null,
   "id": "d7b46013",
   "metadata": {},
   "outputs": [],
   "source": []
  }
 ],
 "metadata": {
  "kernelspec": {
   "display_name": "Python 3 (ipykernel)",
   "language": "python",
   "name": "python3"
  },
  "language_info": {
   "codemirror_mode": {
    "name": "ipython",
    "version": 3
   },
   "file_extension": ".py",
   "mimetype": "text/x-python",
   "name": "python",
   "nbconvert_exporter": "python",
   "pygments_lexer": "ipython3",
   "version": "3.11.3"
  }
 },
 "nbformat": 4,
 "nbformat_minor": 5
}
