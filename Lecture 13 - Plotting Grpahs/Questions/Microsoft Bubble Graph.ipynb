{
 "cells": [
  {
   "cell_type": "markdown",
   "id": "831700bc",
   "metadata": {},
   "source": [
    "### Problem statement\n",
    "We are given data of Microsoft Corporations, it contains the gross annual revenue in billion U.S dollar and the number of employees in thousands and year. Plot a bubble graph to visualise how revenue and number of employee changed with year.\n",
    "\n",
    "Find years where there is a drastic increase in gross revenue of Microsoft Corporations (from previous and next year both). Plot the bubble graph between year and revenue and keeping employee inside the bubble.\n",
    "\n",
    "Print the year, revenue and number of the employee where there is a drastic increase in revenue ( Top 2 ).\n",
    "\n",
    "Note:For finding the year where there is a drastic increase in gross revenue check whether the revenue of that year is greater than in previous years and greater than next year. Here years should be printed in ascending order.\n",
    "\n",
    "Output Format:\n",
    "\n",
    "year1 revenue1 employee1\n",
    "\n",
    "year2 revenue2 employee2\n",
    "\n",
    ". . .\n",
    "\n",
    ". . .\n",
    "\n",
    ". . ."
   ]
  },
  {
   "cell_type": "code",
   "execution_count": null,
   "id": "32cc530c",
   "metadata": {
    "vscode": {
     "languageId": "plaintext"
    }
   },
   "outputs": [],
   "source": []
  }
 ],
 "metadata": {
  "language_info": {
   "name": "python"
  }
 },
 "nbformat": 4,
 "nbformat_minor": 5
}
