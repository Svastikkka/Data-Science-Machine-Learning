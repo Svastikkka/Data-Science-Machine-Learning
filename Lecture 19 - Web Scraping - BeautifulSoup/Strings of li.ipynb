{
 "cells": [
  {
   "cell_type": "markdown",
   "id": "a765610a",
   "metadata": {},
   "source": [
    "#### Problem Statement\n",
    "You are given the HTML content of a webpage, your task is to:\n",
    "\n",
    "Print the strings(only text without tag names) of all li tags separated by a space\n",
    "\n",
    "NOTE : You are provided the HTML content inside variable html\n",
    "\n",
    "#### Output Format :\n",
    "```\n",
    "li_text1 li_text2 li_text3 ...\n",
    "```"
   ]
  },
  {
   "cell_type": "code",
   "execution_count": 1,
   "id": "d77716a1",
   "metadata": {},
   "outputs": [],
   "source": [
    "html = '<!DOCTYPE html><html><head><title>Learning Beautiful Soup</title></head>\\\n",
    "<body><h1> About Us </h1><div class = \"first_div\"><p>Coding Ninjas Website</p>\\\n",
    "<a href=\"https://www.codingninjas.in/\">Link to Coding Ninjas Website</a>\\\n",
    "<ul><li>This</li><li>is</li><li>an</li><li>unordered</li><li>list.</li></ul>\\\n",
    "</div><p id = \"template_p\">This is a template paragraph tag</p>\\\n",
    "<a href = \"https://www.facebook.com/codingninjas/\">\\\n",
    "This is the link of our Facebook Page</a></body></html>'"
   ]
  },
  {
   "cell_type": "code",
   "execution_count": 2,
   "id": "e61568b1",
   "metadata": {},
   "outputs": [],
   "source": [
    "from bs4 import BeautifulSoup as bp\n",
    "data=bp(html,\"html.parser\")"
   ]
  },
  {
   "cell_type": "code",
   "execution_count": 5,
   "id": "f9b17e47",
   "metadata": {},
   "outputs": [],
   "source": [
    "arr=data.find_all(\"li\")"
   ]
  },
  {
   "cell_type": "code",
   "execution_count": 7,
   "id": "311a5c3e",
   "metadata": {},
   "outputs": [
    {
     "name": "stdout",
     "output_type": "stream",
     "text": [
      "This is an unordered list. "
     ]
    }
   ],
   "source": [
    "for i in arr:\n",
    "    print(i.get_text(),end=\" \")"
   ]
  },
  {
   "cell_type": "code",
   "execution_count": null,
   "id": "d5dcb9b3",
   "metadata": {},
   "outputs": [],
   "source": []
  }
 ],
 "metadata": {
  "kernelspec": {
   "display_name": "Python 3 (ipykernel)",
   "language": "python",
   "name": "python3"
  },
  "language_info": {
   "codemirror_mode": {
    "name": "ipython",
    "version": 3
   },
   "file_extension": ".py",
   "mimetype": "text/x-python",
   "name": "python",
   "nbconvert_exporter": "python",
   "pygments_lexer": "ipython3",
   "version": "3.11.3"
  }
 },
 "nbformat": 4,
 "nbformat_minor": 5
}
