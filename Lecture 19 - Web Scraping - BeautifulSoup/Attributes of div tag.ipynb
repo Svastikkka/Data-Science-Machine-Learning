{
 "cells": [
  {
   "cell_type": "markdown",
   "id": "b2d0d21a",
   "metadata": {},
   "source": [
    "#### Problem Statement\n",
    "\n",
    "You are given the HTML content of a webpage, your task is to:\n",
    "\n",
    "Print the name of all attributes of first div tag of the page\n",
    "\n",
    "NOTE: You are provided the HTML content inside variable html\n",
    "\n",
    "#### Output Format:\n",
    "```\n",
    "attribute_1\n",
    "attribute_2\n",
    ".\n",
    ".\n",
    "```"
   ]
  },
  {
   "cell_type": "code",
   "execution_count": 1,
   "id": "b2f962c8",
   "metadata": {},
   "outputs": [],
   "source": [
    "html = '<!DOCTYPE html><html><head><title>Learning Beautiful Soup</title></head>\\\n",
    "<body><h1> About Us </h1><div class = \"first_div\"><p>Coding Ninjas Website</p>\\\n",
    "<a href=\"https://www.codingninjas.in/\">Link to Coding Ninjas Website</a>\\\n",
    "<ul><li>This</li><li>is</li><li>an</li><li>unordered</li><li>list.</li></ul>\\\n",
    "</div><p id = \"template_p\">This is a template paragraph tag</p>\\\n",
    "<a href = \"https://www.facebook.com/codingninjas/\">\\\n",
    "This is the link of our Facebook Page</a></body></html>'"
   ]
  },
  {
   "cell_type": "code",
   "execution_count": 23,
   "id": "4bb4a342",
   "metadata": {},
   "outputs": [],
   "source": [
    "from bs4 import BeautifulSoup as bp\n",
    "data = bp(html,\"html.parser\")"
   ]
  },
  {
   "cell_type": "code",
   "execution_count": 24,
   "id": "ea46ac44",
   "metadata": {},
   "outputs": [],
   "source": [
    "arr=data.div.attrs"
   ]
  },
  {
   "cell_type": "code",
   "execution_count": 25,
   "id": "f09d2020",
   "metadata": {},
   "outputs": [
    {
     "name": "stdout",
     "output_type": "stream",
     "text": [
      "class\n"
     ]
    }
   ],
   "source": [
    "for i in arr:\n",
    "    print(i)"
   ]
  },
  {
   "cell_type": "code",
   "execution_count": null,
   "id": "4dbd63a6",
   "metadata": {},
   "outputs": [],
   "source": []
  }
 ],
 "metadata": {
  "kernelspec": {
   "display_name": "Python 3 (ipykernel)",
   "language": "python",
   "name": "python3"
  },
  "language_info": {
   "codemirror_mode": {
    "name": "ipython",
    "version": 3
   },
   "file_extension": ".py",
   "mimetype": "text/x-python",
   "name": "python",
   "nbconvert_exporter": "python",
   "pygments_lexer": "ipython3",
   "version": "3.11.3"
  }
 },
 "nbformat": 4,
 "nbformat_minor": 5
}
