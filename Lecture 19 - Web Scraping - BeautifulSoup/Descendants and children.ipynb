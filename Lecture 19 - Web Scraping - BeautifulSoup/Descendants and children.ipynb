{
 "cells": [
  {
   "cell_type": "markdown",
   "id": "eab113ae",
   "metadata": {},
   "source": [
    "#### Problem Statement:\n",
    "\n",
    "You are given the HTML content of a webpage, your task is to:\n",
    "\n",
    "Print the difference between the number of descendants and the number of children of the html tag\n",
    "\n",
    "NOTE : You are provided the HTML content inside variable html\n",
    "\n",
    "#### Output Format :\n",
    "```\n",
    "difference\n",
    "```"
   ]
  },
  {
   "cell_type": "code",
   "execution_count": 22,
   "id": "834d1b76",
   "metadata": {},
   "outputs": [],
   "source": [
    "## HTML Code is provided in variable html\n",
    "\n",
    "html = '<!DOCTYPE html><html><head><title>Navigate Parse Tree</title></head>\\\n",
    "<body><h1>This is your Assignment</h1><a href = \"https://www.google.com\">This is a link that will take you to Google</a>\\\n",
    "<ul><li><p> This question is given to test your knowledge of <b>Web Scraping</b></p>\\\n",
    "<p>Web scraping is a term used to describe the use of a program or algorithm to extract and process large amounts of data from the web.</p></li>\\\n",
    "<li id = \"li2\">This is an li tag given to you for scraping</li>\\\n",
    "<li>This li tag gives you the various ways to get data from a website\\\n",
    "<ol><li class = \"list_or\">Using API of the website</li><li>Scrape data using BeautifulSoup</li><li>Scrape data using Selenium</li>\\\n",
    "<li>Scrape data using Scrapy</li></ol></li>\\\n",
    "<li class = \"list_or\"><a href=\"https://www.crummy.com/software/BeautifulSoup/bs4/doc/\">\\\n",
    "Clicking on this takes you to the documentation of BeautifulSoup</a>\\\n",
    "<a href=\"https://selenium-python.readthedocs.io/\" id=\"anchor\">Clicking on this takes you to the documentation of Selenium</a>\\\n",
    "</li></ul></body></html>'\n",
    "\n",
    "## Print the required output in given format"
   ]
  },
  {
   "cell_type": "code",
   "execution_count": 23,
   "id": "bc7129d7",
   "metadata": {},
   "outputs": [],
   "source": [
    "from bs4 import BeautifulSoup as bp\n",
    "data=bp(html,\"html.parser\")"
   ]
  },
  {
   "cell_type": "code",
   "execution_count": 24,
   "id": "653309ed",
   "metadata": {},
   "outputs": [],
   "source": [
    "descendant = list(data.html.descendants)"
   ]
  },
  {
   "cell_type": "code",
   "execution_count": 25,
   "id": "5eb46dc0",
   "metadata": {},
   "outputs": [],
   "source": [
    "children = list(data.html.children)"
   ]
  },
  {
   "cell_type": "code",
   "execution_count": 26,
   "id": "4efd062c",
   "metadata": {},
   "outputs": [
    {
     "name": "stdout",
     "output_type": "stream",
     "text": [
      "32\n"
     ]
    }
   ],
   "source": [
    "print(len(descendant)-len(children))"
   ]
  },
  {
   "cell_type": "code",
   "execution_count": null,
   "id": "c0e1a325",
   "metadata": {},
   "outputs": [],
   "source": []
  },
  {
   "cell_type": "code",
   "execution_count": null,
   "id": "29a74ce9",
   "metadata": {},
   "outputs": [],
   "source": []
  }
 ],
 "metadata": {
  "kernelspec": {
   "display_name": "Python 3 (ipykernel)",
   "language": "python",
   "name": "python3"
  },
  "language_info": {
   "codemirror_mode": {
    "name": "ipython",
    "version": 3
   },
   "file_extension": ".py",
   "mimetype": "text/x-python",
   "name": "python",
   "nbconvert_exporter": "python",
   "pygments_lexer": "ipython3",
   "version": "3.11.3"
  }
 },
 "nbformat": 4,
 "nbformat_minor": 5
}
