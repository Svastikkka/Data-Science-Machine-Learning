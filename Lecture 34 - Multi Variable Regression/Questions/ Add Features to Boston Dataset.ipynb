{
 "cells": [
  {
   "cell_type": "markdown",
   "id": "33890007",
   "metadata": {},
   "source": [
    "#### Problem statement\n",
    "\n",
    "In this problem you need to load the Boston dataset from sklearn toy datasets. After loading, you need to split the dataset into testing and training datasets. Now, fit the linear regression model on the training dataset and store the training and testing scores.\n",
    "\n",
    "After this add two more columns to the dataset. These columns are the squared values of the 'AGE' and the 'RM' columns respectively.\n",
    "\n",
    "Again split the dataset into testing and training datasets. Now, fit the linear regression model on the training dataset and store the training and testing scores.\n",
    "\n",
    "Compare the scores of both the models and print \"Score improved\" if both training and testing scores improved after squaring two columns. Otherwise, print \"Score not improved\".\n",
    "\n",
    "Output\n",
    "\n",
    "If both training and testing scores improved after squaring two columns print:\n",
    "\n",
    "\"Score improved\"\n",
    "\n",
    "Else print:\n",
    "\n",
    "\"Score not improved\""
   ]
  },
  {
   "cell_type": "code",
   "execution_count": null,
   "id": "7c97c79c",
   "metadata": {},
   "outputs": [],
   "source": [
    "import numpy as np\n",
    "from sklearn.model_selection import train_test_split\n",
    "from sklearn.linear_model import LinearRegression\n",
    "from sklearn.metrics import r2_score\n",
    "from sklearn.datasets import load_boston\n",
    "import pandas as pd"
   ]
  },
  {
   "cell_type": "code",
   "execution_count": null,
   "id": "888abece",
   "metadata": {},
   "outputs": [],
   "source": []
  }
 ],
 "metadata": {
  "kernelspec": {
   "display_name": "svastikkka",
   "language": "python",
   "name": "python3"
  },
  "language_info": {
   "name": "python",
   "version": "3.9.21"
  }
 },
 "nbformat": 4,
 "nbformat_minor": 5
}
