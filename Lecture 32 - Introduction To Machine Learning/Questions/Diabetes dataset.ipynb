{
 "cells": [
  {
   "cell_type": "markdown",
   "id": "54d4184d",
   "metadata": {},
   "source": [
    "#### Problem statement\n",
    "\n",
    "scikit-learn comes with a few small standard datasets that do not require downloading any file from some external website.\n",
    "\n",
    "\n",
    "These datasets are useful to quickly illustrate the behaviour of the various algorithms implemented in scikit-learn. They are however often too small to be representative of real-world machine learning tasks.\n",
    "\n",
    "\n",
    "One such dataset is the \"Diabetes dataset\".\n",
    "\n",
    "\n",
    "Your work is to load this dataset from the sklearn library and split the dataset into training and testing in the ratio of 70:30 and print the shape.\n",
    "\n",
    "\n",
    "#### Output\n",
    "\n",
    "- Print the shape of X_train\n",
    "- Print the shape of X_test\n",
    "- Print the shape of y_train\n",
    "- Print the shape of y_test"
   ]
  },
  {
   "cell_type": "code",
   "execution_count": 2,
   "id": "7e29671d",
   "metadata": {},
   "outputs": [
    {
     "name": "stdout",
     "output_type": "stream",
     "text": [
      "(309, 10)\n",
      "(133, 10)\n",
      "(309,)\n",
      "(133,)\n"
     ]
    }
   ],
   "source": [
    "from sklearn.datasets import load_diabetes\n",
    "from sklearn.model_selection import train_test_split\n",
    "\n",
    "diabetes = load_diabetes() # sklearn provide datasets by default\n",
    "\n",
    "X = diabetes.data\n",
    "y = diabetes.target\n",
    "\n",
    "X_train, X_test, y_train, y_test = train_test_split(X, y, test_size=0.3, random_state=42)\n",
    "\n",
    "print(X_train.shape)\n",
    "print(X_test.shape)\n",
    "print(y_train.shape)\n",
    "print(y_test.shape)\n"
   ]
  },
  {
   "cell_type": "code",
   "execution_count": null,
   "id": "43b06d0e",
   "metadata": {},
   "outputs": [],
   "source": []
  }
 ],
 "metadata": {
  "kernelspec": {
   "display_name": "svastikkka",
   "language": "python",
   "name": "python3"
  },
  "language_info": {
   "codemirror_mode": {
    "name": "ipython",
    "version": 3
   },
   "file_extension": ".py",
   "mimetype": "text/x-python",
   "name": "python",
   "nbconvert_exporter": "python",
   "pygments_lexer": "ipython3",
   "version": "3.9.21"
  }
 },
 "nbformat": 4,
 "nbformat_minor": 5
}
